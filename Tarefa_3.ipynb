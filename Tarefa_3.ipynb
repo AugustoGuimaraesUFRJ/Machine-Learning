{
  "nbformat": 4,
  "nbformat_minor": 0,
  "metadata": {
    "colab": {
      "provenance": [],
      "collapsed_sections": [
        "DBr4Nc2OiWmq",
        "mHQbCX4gJxjU",
        "6-4HwLS7lDhm",
        "rLGu17k5ryvt",
        "8LFOK_J-IsYC",
        "Rqi8Xuh7JpQs",
        "jV7XqJ9yMvoc",
        "D-epwuZetNcN",
        "oSfu4emycV55",
        "ULoT4GODcV56",
        "BWO4yIOw5pWe",
        "CNjw17sr6ANr",
        "W6oe_z0Z6JG7",
        "Yj7pm_zg6Tfn",
        "2DeAYjy962jZ",
        "aE8H-vLW6XlL",
        "mYO-i72D-IHv",
        "QddZCfdfAr6D",
        "eit9WguPAG5_",
        "9U5cAN8DW-O4",
        "nSJHfQRLYCSE",
        "3UhQfTT6YjbU"
      ],
      "authorship_tag": "ABX9TyMDU5VK3rUqgbZuIfhaLxYB",
      "include_colab_link": true
    },
    "kernelspec": {
      "name": "python3",
      "display_name": "Python 3"
    },
    "language_info": {
      "name": "python"
    }
  },
  "cells": [
    {
      "cell_type": "markdown",
      "metadata": {
        "id": "view-in-github",
        "colab_type": "text"
      },
      "source": [
        "<a href=\"https://colab.research.google.com/github/AugustoGuimaraesUFRJ/Machine-Learning/blob/main/Tarefa_3.ipynb\" target=\"_parent\"><img src=\"https://colab.research.google.com/assets/colab-badge.svg\" alt=\"Open In Colab\"/></a>"
      ]
    },
    {
      "cell_type": "markdown",
      "source": [
        "Augusto Guimarães Rodrrigues de Lima - DRE: 119025393\n",
        "\n",
        "Filipe Castelo Branco de Souza - DRE: 119066195\n",
        "\n",
        "Pima Indians Diabetes Database - Prever o aparecimento de diabetes com base em medidas de diagnóstico"
      ],
      "metadata": {
        "id": "HU_Y3BSyicIs"
      }
    },
    {
      "cell_type": "markdown",
      "source": [
        "## Importando Bibliotecas"
      ],
      "metadata": {
        "id": "DBr4Nc2OiWmq"
      }
    },
    {
      "cell_type": "code",
      "execution_count": 1217,
      "metadata": {
        "id": "ykt-lczpLoGV"
      },
      "outputs": [],
      "source": [
        "# Carregando Bibliotecas\n",
        "import pandas as pd\n",
        "from sklearn import metrics #Importa métrica para calcular acurácia - módulo do scikit-learn\n",
        "from sklearn.model_selection import train_test_split\n",
        "from six import StringIO  \n",
        "import pydotplus\n",
        "import numpy as np\n",
        "import seaborn as sns\n",
        "import matplotlib.pyplot as plt\n",
        "from sklearn.metrics import ConfusionMatrixDisplay\n"
      ]
    },
    {
      "cell_type": "markdown",
      "source": [
        "## Dataset"
      ],
      "metadata": {
        "id": "mHQbCX4gJxjU"
      }
    },
    {
      "cell_type": "code",
      "source": [
        "dataset = pd.read_csv(\"diabetes.csv\")"
      ],
      "metadata": {
        "id": "1q441sbAL0cz"
      },
      "execution_count": 1218,
      "outputs": []
    },
    {
      "cell_type": "code",
      "source": [
        "# 5 primeiras linhas do dataset\n",
        "dataset.head()"
      ],
      "metadata": {
        "colab": {
          "base_uri": "https://localhost:8080/",
          "height": 0
        },
        "id": "MG1h0JK6L2e_",
        "outputId": "5f8b6a3e-ff45-4156-cc9d-3e06fb297fab"
      },
      "execution_count": 1219,
      "outputs": [
        {
          "output_type": "execute_result",
          "data": {
            "text/plain": [
              "   Pregnancies  Glucose  BloodPressure  SkinThickness  Insulin   BMI  \\\n",
              "0            6      148             72             35        0  33.6   \n",
              "1            1       85             66             29        0  26.6   \n",
              "2            8      183             64              0        0  23.3   \n",
              "3            1       89             66             23       94  28.1   \n",
              "4            0      137             40             35      168  43.1   \n",
              "\n",
              "   DiabetesPedigreeFunction  Age  Outcome  \n",
              "0                     0.627   50        1  \n",
              "1                     0.351   31        0  \n",
              "2                     0.672   32        1  \n",
              "3                     0.167   21        0  \n",
              "4                     2.288   33        1  "
            ],
            "text/html": [
              "\n",
              "  <div id=\"df-5ee1c539-cd27-4893-a5ce-8125142a645d\">\n",
              "    <div class=\"colab-df-container\">\n",
              "      <div>\n",
              "<style scoped>\n",
              "    .dataframe tbody tr th:only-of-type {\n",
              "        vertical-align: middle;\n",
              "    }\n",
              "\n",
              "    .dataframe tbody tr th {\n",
              "        vertical-align: top;\n",
              "    }\n",
              "\n",
              "    .dataframe thead th {\n",
              "        text-align: right;\n",
              "    }\n",
              "</style>\n",
              "<table border=\"1\" class=\"dataframe\">\n",
              "  <thead>\n",
              "    <tr style=\"text-align: right;\">\n",
              "      <th></th>\n",
              "      <th>Pregnancies</th>\n",
              "      <th>Glucose</th>\n",
              "      <th>BloodPressure</th>\n",
              "      <th>SkinThickness</th>\n",
              "      <th>Insulin</th>\n",
              "      <th>BMI</th>\n",
              "      <th>DiabetesPedigreeFunction</th>\n",
              "      <th>Age</th>\n",
              "      <th>Outcome</th>\n",
              "    </tr>\n",
              "  </thead>\n",
              "  <tbody>\n",
              "    <tr>\n",
              "      <th>0</th>\n",
              "      <td>6</td>\n",
              "      <td>148</td>\n",
              "      <td>72</td>\n",
              "      <td>35</td>\n",
              "      <td>0</td>\n",
              "      <td>33.6</td>\n",
              "      <td>0.627</td>\n",
              "      <td>50</td>\n",
              "      <td>1</td>\n",
              "    </tr>\n",
              "    <tr>\n",
              "      <th>1</th>\n",
              "      <td>1</td>\n",
              "      <td>85</td>\n",
              "      <td>66</td>\n",
              "      <td>29</td>\n",
              "      <td>0</td>\n",
              "      <td>26.6</td>\n",
              "      <td>0.351</td>\n",
              "      <td>31</td>\n",
              "      <td>0</td>\n",
              "    </tr>\n",
              "    <tr>\n",
              "      <th>2</th>\n",
              "      <td>8</td>\n",
              "      <td>183</td>\n",
              "      <td>64</td>\n",
              "      <td>0</td>\n",
              "      <td>0</td>\n",
              "      <td>23.3</td>\n",
              "      <td>0.672</td>\n",
              "      <td>32</td>\n",
              "      <td>1</td>\n",
              "    </tr>\n",
              "    <tr>\n",
              "      <th>3</th>\n",
              "      <td>1</td>\n",
              "      <td>89</td>\n",
              "      <td>66</td>\n",
              "      <td>23</td>\n",
              "      <td>94</td>\n",
              "      <td>28.1</td>\n",
              "      <td>0.167</td>\n",
              "      <td>21</td>\n",
              "      <td>0</td>\n",
              "    </tr>\n",
              "    <tr>\n",
              "      <th>4</th>\n",
              "      <td>0</td>\n",
              "      <td>137</td>\n",
              "      <td>40</td>\n",
              "      <td>35</td>\n",
              "      <td>168</td>\n",
              "      <td>43.1</td>\n",
              "      <td>2.288</td>\n",
              "      <td>33</td>\n",
              "      <td>1</td>\n",
              "    </tr>\n",
              "  </tbody>\n",
              "</table>\n",
              "</div>\n",
              "      <button class=\"colab-df-convert\" onclick=\"convertToInteractive('df-5ee1c539-cd27-4893-a5ce-8125142a645d')\"\n",
              "              title=\"Convert this dataframe to an interactive table.\"\n",
              "              style=\"display:none;\">\n",
              "        \n",
              "  <svg xmlns=\"http://www.w3.org/2000/svg\" height=\"24px\"viewBox=\"0 0 24 24\"\n",
              "       width=\"24px\">\n",
              "    <path d=\"M0 0h24v24H0V0z\" fill=\"none\"/>\n",
              "    <path d=\"M18.56 5.44l.94 2.06.94-2.06 2.06-.94-2.06-.94-.94-2.06-.94 2.06-2.06.94zm-11 1L8.5 8.5l.94-2.06 2.06-.94-2.06-.94L8.5 2.5l-.94 2.06-2.06.94zm10 10l.94 2.06.94-2.06 2.06-.94-2.06-.94-.94-2.06-.94 2.06-2.06.94z\"/><path d=\"M17.41 7.96l-1.37-1.37c-.4-.4-.92-.59-1.43-.59-.52 0-1.04.2-1.43.59L10.3 9.45l-7.72 7.72c-.78.78-.78 2.05 0 2.83L4 21.41c.39.39.9.59 1.41.59.51 0 1.02-.2 1.41-.59l7.78-7.78 2.81-2.81c.8-.78.8-2.07 0-2.86zM5.41 20L4 18.59l7.72-7.72 1.47 1.35L5.41 20z\"/>\n",
              "  </svg>\n",
              "      </button>\n",
              "      \n",
              "  <style>\n",
              "    .colab-df-container {\n",
              "      display:flex;\n",
              "      flex-wrap:wrap;\n",
              "      gap: 12px;\n",
              "    }\n",
              "\n",
              "    .colab-df-convert {\n",
              "      background-color: #E8F0FE;\n",
              "      border: none;\n",
              "      border-radius: 50%;\n",
              "      cursor: pointer;\n",
              "      display: none;\n",
              "      fill: #1967D2;\n",
              "      height: 32px;\n",
              "      padding: 0 0 0 0;\n",
              "      width: 32px;\n",
              "    }\n",
              "\n",
              "    .colab-df-convert:hover {\n",
              "      background-color: #E2EBFA;\n",
              "      box-shadow: 0px 1px 2px rgba(60, 64, 67, 0.3), 0px 1px 3px 1px rgba(60, 64, 67, 0.15);\n",
              "      fill: #174EA6;\n",
              "    }\n",
              "\n",
              "    [theme=dark] .colab-df-convert {\n",
              "      background-color: #3B4455;\n",
              "      fill: #D2E3FC;\n",
              "    }\n",
              "\n",
              "    [theme=dark] .colab-df-convert:hover {\n",
              "      background-color: #434B5C;\n",
              "      box-shadow: 0px 1px 3px 1px rgba(0, 0, 0, 0.15);\n",
              "      filter: drop-shadow(0px 1px 2px rgba(0, 0, 0, 0.3));\n",
              "      fill: #FFFFFF;\n",
              "    }\n",
              "  </style>\n",
              "\n",
              "      <script>\n",
              "        const buttonEl =\n",
              "          document.querySelector('#df-5ee1c539-cd27-4893-a5ce-8125142a645d button.colab-df-convert');\n",
              "        buttonEl.style.display =\n",
              "          google.colab.kernel.accessAllowed ? 'block' : 'none';\n",
              "\n",
              "        async function convertToInteractive(key) {\n",
              "          const element = document.querySelector('#df-5ee1c539-cd27-4893-a5ce-8125142a645d');\n",
              "          const dataTable =\n",
              "            await google.colab.kernel.invokeFunction('convertToInteractive',\n",
              "                                                     [key], {});\n",
              "          if (!dataTable) return;\n",
              "\n",
              "          const docLinkHtml = 'Like what you see? Visit the ' +\n",
              "            '<a target=\"_blank\" href=https://colab.research.google.com/notebooks/data_table.ipynb>data table notebook</a>'\n",
              "            + ' to learn more about interactive tables.';\n",
              "          element.innerHTML = '';\n",
              "          dataTable['output_type'] = 'display_data';\n",
              "          await google.colab.output.renderOutput(dataTable, element);\n",
              "          const docLink = document.createElement('div');\n",
              "          docLink.innerHTML = docLinkHtml;\n",
              "          element.appendChild(docLink);\n",
              "        }\n",
              "      </script>\n",
              "    </div>\n",
              "  </div>\n",
              "  "
            ]
          },
          "metadata": {},
          "execution_count": 1219
        }
      ]
    },
    {
      "cell_type": "code",
      "source": [
        "#  Informações das colunas\n",
        "#  Nome, quantidade de valores não-nulos e tipo\n",
        "print(\"nome X quantidade de valores não-nulos X tipo: \")\n",
        "dataset.info()"
      ],
      "metadata": {
        "colab": {
          "base_uri": "https://localhost:8080/"
        },
        "id": "QORHUEvAL5_c",
        "outputId": "e0bd3a72-966e-404b-cae7-f73b4794cc24"
      },
      "execution_count": 1220,
      "outputs": [
        {
          "output_type": "stream",
          "name": "stdout",
          "text": [
            "nome X quantidade de valores não-nulos X tipo: \n",
            "<class 'pandas.core.frame.DataFrame'>\n",
            "RangeIndex: 768 entries, 0 to 767\n",
            "Data columns (total 9 columns):\n",
            " #   Column                    Non-Null Count  Dtype  \n",
            "---  ------                    --------------  -----  \n",
            " 0   Pregnancies               768 non-null    int64  \n",
            " 1   Glucose                   768 non-null    int64  \n",
            " 2   BloodPressure             768 non-null    int64  \n",
            " 3   SkinThickness             768 non-null    int64  \n",
            " 4   Insulin                   768 non-null    int64  \n",
            " 5   BMI                       768 non-null    float64\n",
            " 6   DiabetesPedigreeFunction  768 non-null    float64\n",
            " 7   Age                       768 non-null    int64  \n",
            " 8   Outcome                   768 non-null    int64  \n",
            "dtypes: float64(2), int64(7)\n",
            "memory usage: 54.1 KB\n"
          ]
        }
      ]
    },
    {
      "cell_type": "code",
      "source": [
        "# Quantidade de linhas X colunas\n",
        "print(\"quantidade de instancias X atributos: \")\n",
        "dataset.shape"
      ],
      "metadata": {
        "colab": {
          "base_uri": "https://localhost:8080/"
        },
        "id": "57aRpjOiL7ha",
        "outputId": "a9e9dcc0-5186-4078-dcd9-74f450679b5b"
      },
      "execution_count": 1221,
      "outputs": [
        {
          "output_type": "stream",
          "name": "stdout",
          "text": [
            "quantidade de instancias X atributos: \n"
          ]
        },
        {
          "output_type": "execute_result",
          "data": {
            "text/plain": [
              "(768, 9)"
            ]
          },
          "metadata": {},
          "execution_count": 1221
        }
      ]
    },
    {
      "cell_type": "code",
      "source": [
        "# Numero de pessoas sem e com diabetes\n",
        "sns.countplot(x=dataset.Outcome)\n",
        "plt.title(\"Plotting the count of patient with Diabetes\")\n",
        "plt.show()"
      ],
      "metadata": {
        "colab": {
          "base_uri": "https://localhost:8080/",
          "height": 0
        },
        "id": "uEH9LMXxL9DO",
        "outputId": "256e48b3-f71e-4d7f-f0d8-1a40d31cb0f0"
      },
      "execution_count": 1222,
      "outputs": [
        {
          "output_type": "display_data",
          "data": {
            "text/plain": [
              "<Figure size 432x288 with 1 Axes>"
            ],
            "image/png": "[encoded data removed]"
          },
          "metadata": {
            "needs_background": "light"
          }
        }
      ]
    },
    {
      "cell_type": "code",
      "source": [
        "dataset.Outcome.value_counts() #Retorna uma série contendo contagens de valores únicos."
      ],
      "metadata": {
        "colab": {
          "base_uri": "https://localhost:8080/"
        },
        "id": "at6WVuiaL_GO",
        "outputId": "e0e1a543-dece-4831-8926-fc9d017c1046"
      },
      "execution_count": 1223,
      "outputs": [
        {
          "output_type": "execute_result",
          "data": {
            "text/plain": [
              "0    500\n",
              "1    268\n",
              "Name: Outcome, dtype: int64"
            ]
          },
          "metadata": {},
          "execution_count": 1223
        }
      ]
    },
    {
      "cell_type": "markdown",
      "metadata": {
        "id": "6-4HwLS7lDhm"
      },
      "source": [
        "##Atributos\n",
        "\n",
        "\n",
        "\n",
        "\n"
      ]
    },
    {
      "cell_type": "markdown",
      "metadata": {
        "id": "buBKh8X3mHCj"
      },
      "source": [
        "### Pregnancies"
      ]
    },
    {
      "cell_type": "code",
      "execution_count": 1224,
      "metadata": {
        "id": "5LOkPCank9yC",
        "colab": {
          "base_uri": "https://localhost:8080/"
        },
        "outputId": "50ece40f-4bc2-42ec-8905-e4c34ba19971"
      },
      "outputs": [
        {
          "output_type": "stream",
          "name": "stdout",
          "text": [
            "1     135\n",
            "0     111\n",
            "2     103\n",
            "3      75\n",
            "4      68\n",
            "5      57\n",
            "6      50\n",
            "7      45\n",
            "8      38\n",
            "9      28\n",
            "10     24\n",
            "11     11\n",
            "13     10\n",
            "12      9\n",
            "14      2\n",
            "15      1\n",
            "17      1\n",
            "Name: Pregnancies, dtype: int64\n"
          ]
        }
      ],
      "source": [
        "# Número de vezes que uma pessoa ficou grávida\n",
        "# Valores do atributo\n",
        "print(dataset['Pregnancies'].value_counts()) #Retorna uma série contendo contagens de valores únicos."
      ]
    },
    {
      "cell_type": "markdown",
      "metadata": {
        "id": "rLGu17k5ryvt"
      },
      "source": [
        "### Glucose"
      ]
    },
    {
      "cell_type": "code",
      "execution_count": 1225,
      "metadata": {
        "id": "XwtiMscir690",
        "colab": {
          "base_uri": "https://localhost:8080/"
        },
        "outputId": "065fbcea-b1c3-404c-8e55-66e93a16038c"
      },
      "outputs": [
        {
          "output_type": "stream",
          "name": "stdout",
          "text": [
            "99     17\n",
            "100    17\n",
            "111    14\n",
            "129    14\n",
            "125    14\n",
            "       ..\n",
            "191     1\n",
            "177     1\n",
            "44      1\n",
            "62      1\n",
            "190     1\n",
            "Name: Glucose, Length: 136, dtype: int64\n"
          ]
        }
      ],
      "source": [
        "# Concentração de glicose no plasma durante 2 horas em um teste oral de tolerância à glicose\n",
        "# Valores do atributo\n",
        "print(dataset['Glucose'].value_counts()) #Retorna uma série contendo contagens de valores únicos."
      ]
    },
    {
      "cell_type": "markdown",
      "metadata": {
        "id": "8LFOK_J-IsYC"
      },
      "source": [
        "### BloodPressure"
      ]
    },
    {
      "cell_type": "code",
      "execution_count": 1226,
      "metadata": {
        "id": "vj7AduNPIwQi",
        "colab": {
          "base_uri": "https://localhost:8080/"
        },
        "outputId": "7b14f9b4-4162-4d34-da62-6a5b0eb893e4"
      },
      "outputs": [
        {
          "output_type": "stream",
          "name": "stdout",
          "text": [
            "70     57\n",
            "74     52\n",
            "78     45\n",
            "68     45\n",
            "72     44\n",
            "64     43\n",
            "80     40\n",
            "76     39\n",
            "60     37\n",
            "0      35\n",
            "62     34\n",
            "66     30\n",
            "82     30\n",
            "88     25\n",
            "84     23\n",
            "90     22\n",
            "86     21\n",
            "58     21\n",
            "50     13\n",
            "56     12\n",
            "52     11\n",
            "54     11\n",
            "75      8\n",
            "92      8\n",
            "65      7\n",
            "85      6\n",
            "94      6\n",
            "48      5\n",
            "96      4\n",
            "44      4\n",
            "100     3\n",
            "106     3\n",
            "98      3\n",
            "110     3\n",
            "55      2\n",
            "108     2\n",
            "104     2\n",
            "46      2\n",
            "30      2\n",
            "122     1\n",
            "95      1\n",
            "102     1\n",
            "61      1\n",
            "24      1\n",
            "38      1\n",
            "40      1\n",
            "114     1\n",
            "Name: BloodPressure, dtype: int64\n"
          ]
        }
      ],
      "source": [
        "# Pressão sanguinea (mmHg)\n",
        "# Valores do atributo\n",
        "print(dataset['BloodPressure'].value_counts()) #Retorna uma série contendo contagens de valores únicos."
      ]
    },
    {
      "cell_type": "markdown",
      "metadata": {
        "id": "bfG-kmrIHM66"
      },
      "source": [
        "Observamos que faltavam informação em 35 casos (BloodPressure = 0). "
      ]
    },
    {
      "cell_type": "markdown",
      "metadata": {
        "id": "Rqi8Xuh7JpQs"
      },
      "source": [
        "### SkinThickness             "
      ]
    },
    {
      "cell_type": "code",
      "execution_count": 1227,
      "metadata": {
        "id": "QAH9ed3yJsIq",
        "colab": {
          "base_uri": "https://localhost:8080/"
        },
        "outputId": "e223ba6f-d918-453a-8b99-79de381b7b96"
      },
      "outputs": [
        {
          "output_type": "stream",
          "name": "stdout",
          "text": [
            "0     227\n",
            "32     31\n",
            "30     27\n",
            "27     23\n",
            "23     22\n",
            "33     20\n",
            "28     20\n",
            "18     20\n",
            "31     19\n",
            "19     18\n",
            "39     18\n",
            "29     17\n",
            "40     16\n",
            "25     16\n",
            "26     16\n",
            "22     16\n",
            "37     16\n",
            "41     15\n",
            "35     15\n",
            "36     14\n",
            "15     14\n",
            "17     14\n",
            "20     13\n",
            "24     12\n",
            "42     11\n",
            "13     11\n",
            "21     10\n",
            "46      8\n",
            "34      8\n",
            "12      7\n",
            "38      7\n",
            "11      6\n",
            "43      6\n",
            "16      6\n",
            "45      6\n",
            "14      6\n",
            "44      5\n",
            "10      5\n",
            "48      4\n",
            "47      4\n",
            "49      3\n",
            "50      3\n",
            "8       2\n",
            "7       2\n",
            "52      2\n",
            "54      2\n",
            "63      1\n",
            "60      1\n",
            "56      1\n",
            "51      1\n",
            "99      1\n",
            "Name: SkinThickness, dtype: int64\n"
          ]
        }
      ],
      "source": [
        "# Espessura da pele (mm)\n",
        "# Valores do atributo\n",
        "print(dataset['SkinThickness'].value_counts()) #Retorna uma série contendo contagens de valores únicos."
      ]
    },
    {
      "cell_type": "markdown",
      "metadata": {
        "id": "9Gnz9iPiJ2yH"
      },
      "source": [
        "Observamos que faltavam informação em 227 casos (SkinThickness = 0)."
      ]
    },
    {
      "cell_type": "markdown",
      "metadata": {
        "id": "jV7XqJ9yMvoc"
      },
      "source": [
        "### Insulin"
      ]
    },
    {
      "cell_type": "code",
      "execution_count": 1228,
      "metadata": {
        "id": "XOO5pq5lMz72",
        "colab": {
          "base_uri": "https://localhost:8080/"
        },
        "outputId": "984f525f-e31c-4412-f644-db640dba7a65"
      },
      "outputs": [
        {
          "output_type": "stream",
          "name": "stdout",
          "text": [
            "0      374\n",
            "105     11\n",
            "130      9\n",
            "140      9\n",
            "120      8\n",
            "      ... \n",
            "73       1\n",
            "171      1\n",
            "255      1\n",
            "52       1\n",
            "112      1\n",
            "Name: Insulin, Length: 186, dtype: int64\n"
          ]
        }
      ],
      "source": [
        "# Taxa de insulina ((mu U/ml))\n",
        "# Valores do atributo\n",
        "print(dataset['Insulin'].value_counts()) #Retorna uma série contendo contagens de valores únicos."
      ]
    },
    {
      "cell_type": "markdown",
      "metadata": {
        "id": "6BgeczjjJ9ub"
      },
      "source": [
        "Observamos que faltavam informação em 374 casos (Insulin = 0)."
      ]
    },
    {
      "cell_type": "markdown",
      "metadata": {
        "id": "gSeY5HQHNLZa"
      },
      "source": [
        "### BMI"
      ]
    },
    {
      "cell_type": "code",
      "execution_count": 1229,
      "metadata": {
        "id": "ZnTIDgN7NOAJ",
        "colab": {
          "base_uri": "https://localhost:8080/"
        },
        "outputId": "61573c28-048b-46ac-8e4f-6368880d56cd"
      },
      "outputs": [
        {
          "output_type": "stream",
          "name": "stdout",
          "text": [
            "32.0    13\n",
            "31.6    12\n",
            "31.2    12\n",
            "0.0     11\n",
            "32.4    10\n",
            "        ..\n",
            "36.7     1\n",
            "41.8     1\n",
            "42.6     1\n",
            "42.8     1\n",
            "46.3     1\n",
            "Name: BMI, Length: 248, dtype: int64\n"
          ]
        }
      ],
      "source": [
        "# Índice de massa corporal (kg/(m)^2)\n",
        "# Valores do atributo\n",
        "print(dataset['BMI'].value_counts()) #Retorna uma série contendo contagens de valores únicos."
      ]
    },
    {
      "cell_type": "markdown",
      "metadata": {
        "id": "K0OxOqPbNxYv"
      },
      "source": [
        "Observamos que faltavam informação em 11 casos (BMI = 0). "
      ]
    },
    {
      "cell_type": "markdown",
      "metadata": {
        "id": "x8vXzkWIO3gC"
      },
      "source": [
        "### DiabetesPedigreeFunction  "
      ]
    },
    {
      "cell_type": "code",
      "execution_count": 1230,
      "metadata": {
        "id": "brtX7lEHO5dg",
        "colab": {
          "base_uri": "https://localhost:8080/"
        },
        "outputId": "78ee1082-8b54-480d-b09a-c5c7dd74c6dc"
      },
      "outputs": [
        {
          "output_type": "stream",
          "name": "stdout",
          "text": [
            "0.258    6\n",
            "0.254    6\n",
            "0.268    5\n",
            "0.207    5\n",
            "0.261    5\n",
            "        ..\n",
            "1.353    1\n",
            "0.655    1\n",
            "0.092    1\n",
            "0.926    1\n",
            "0.171    1\n",
            "Name: DiabetesPedigreeFunction, Length: 517, dtype: int64\n"
          ]
        }
      ],
      "source": [
        "# Predisposição para diabetes (Com base, no historico familiar)\n",
        "# Valores do atributo\n",
        "print(dataset['DiabetesPedigreeFunction'].value_counts()) #Retorna uma série contendo contagens de valores únicos."
      ]
    },
    {
      "cell_type": "markdown",
      "metadata": {
        "id": "87cDQpepP5Rg"
      },
      "source": [
        "### Age"
      ]
    },
    {
      "cell_type": "code",
      "execution_count": 1231,
      "metadata": {
        "id": "0WzBC0fXP_W4",
        "colab": {
          "base_uri": "https://localhost:8080/"
        },
        "outputId": "7c82aa15-44ca-4b4c-8717-70f27cf442b3"
      },
      "outputs": [
        {
          "output_type": "stream",
          "name": "stdout",
          "text": [
            "22    72\n",
            "21    63\n",
            "25    48\n",
            "24    46\n",
            "23    38\n",
            "28    35\n",
            "26    33\n",
            "27    32\n",
            "29    29\n",
            "31    24\n",
            "41    22\n",
            "30    21\n",
            "37    19\n",
            "42    18\n",
            "33    17\n",
            "38    16\n",
            "36    16\n",
            "32    16\n",
            "45    15\n",
            "34    14\n",
            "46    13\n",
            "43    13\n",
            "40    13\n",
            "39    12\n",
            "35    10\n",
            "50     8\n",
            "51     8\n",
            "52     8\n",
            "44     8\n",
            "58     7\n",
            "47     6\n",
            "54     6\n",
            "49     5\n",
            "48     5\n",
            "57     5\n",
            "53     5\n",
            "60     5\n",
            "66     4\n",
            "63     4\n",
            "62     4\n",
            "55     4\n",
            "67     3\n",
            "56     3\n",
            "59     3\n",
            "65     3\n",
            "69     2\n",
            "61     2\n",
            "72     1\n",
            "81     1\n",
            "64     1\n",
            "70     1\n",
            "68     1\n",
            "Name: Age, dtype: int64\n"
          ]
        }
      ],
      "source": [
        "# Idade\n",
        "# Valores do atributo\n",
        "print(dataset['Age'].value_counts()) #Retorna uma série contendo contagens de valores únicos."
      ]
    },
    {
      "cell_type": "markdown",
      "metadata": {
        "id": "D-epwuZetNcN"
      },
      "source": [
        "## Corrigindo Missing Values"
      ]
    },
    {
      "cell_type": "markdown",
      "metadata": {
        "id": "sIYV0flGKP0u"
      },
      "source": [
        " Vamos substituir os valores que estão faltando pela média de cada atributo"
      ]
    },
    {
      "cell_type": "code",
      "execution_count": 1232,
      "metadata": {
        "id": "gNd2V9-wtTP5"
      },
      "outputs": [],
      "source": [
        "dataset['Glucose'].replace(to_replace=0, value= dataset['Glucose'].median(), inplace=True)\n",
        "dataset['BloodPressure'].replace(to_replace=0, value= dataset['BloodPressure'].median(), inplace=True)\n",
        "dataset['SkinThickness'].replace(to_replace=0, value= dataset['SkinThickness'].median(), inplace=True)\n",
        "dataset['Insulin'].replace(to_replace=0, value= dataset['Insulin'].median(), inplace=True)\n",
        "dataset['BMI'].replace(to_replace=0, value= dataset['BMI'].median(), inplace=True)"
      ]
    },
    {
      "cell_type": "code",
      "execution_count": 1233,
      "metadata": {
        "id": "lHUaaLb1GUcj",
        "colab": {
          "base_uri": "https://localhost:8080/"
        },
        "outputId": "019f9193-5ee2-461b-ffd0-3d1e5777f3d0"
      },
      "outputs": [
        {
          "output_type": "execute_result",
          "data": {
            "text/plain": [
              "(768, 9)"
            ]
          },
          "metadata": {},
          "execution_count": 1233
        }
      ],
      "source": [
        "dataset.shape"
      ]
    },
    {
      "cell_type": "markdown",
      "metadata": {
        "id": "oSfu4emycV55"
      },
      "source": [
        "## Verifica Linhas Duplicadas"
      ]
    },
    {
      "cell_type": "code",
      "execution_count": 1234,
      "metadata": {
        "id": "H2saXqYQGUck",
        "colab": {
          "base_uri": "https://localhost:8080/"
        },
        "outputId": "87870529-c7c1-47de-c70a-1a02552cfd44"
      },
      "outputs": [
        {
          "output_type": "execute_result",
          "data": {
            "text/plain": [
              "(768, 9)"
            ]
          },
          "metadata": {},
          "execution_count": 1234
        }
      ],
      "source": [
        "dataset.drop_duplicates().shape"
      ]
    },
    {
      "cell_type": "markdown",
      "metadata": {
        "id": "ULoT4GODcV56"
      },
      "source": [
        "## Analisando a Correlação dos Atributos"
      ]
    },
    {
      "cell_type": "code",
      "execution_count": 1235,
      "metadata": {
        "id": "bKYOEWceKjiU",
        "colab": {
          "base_uri": "https://localhost:8080/",
          "height": 0
        },
        "outputId": "468e5b25-6dc0-40fb-8b80-f48a32b39542"
      },
      "outputs": [
        {
          "output_type": "display_data",
          "data": {
            "text/plain": [
              "<Figure size 1080x720 with 2 Axes>"
            ],
            "image/png": "[encoded data removed]"
          },
          "metadata": {
            "needs_background": "light"
          }
        }
      ],
      "source": [
        "# Correlação\n",
        "features = dataset.columns\n",
        "plt.figure(figsize=[15,10])\n",
        "plt.title('Correlação')\n",
        "sns.heatmap(dataset[features].corr(), vmin=-1, vmax=1, center=0, annot=True)  \n",
        "plt.show()"
      ]
    },
    {
      "cell_type": "markdown",
      "metadata": {
        "id": "dTa_vdntNvcy"
      },
      "source": [
        "Os atributos mais correlacionados com o Outcome são:  Glicose, BMI e Idade"
      ]
    },
    {
      "cell_type": "markdown",
      "source": [
        "##  Analisando a Variação de Dados do Dataset"
      ],
      "metadata": {
        "id": "BWO4yIOw5pWe"
      }
    },
    {
      "cell_type": "code",
      "source": [
        "dataset.boxplot(figsize=(20,10))"
      ],
      "metadata": {
        "colab": {
          "base_uri": "https://localhost:8080/",
          "height": 0
        },
        "id": "tBFpnmthM1Hi",
        "outputId": "c3ea729c-462a-42a9-c214-dee18647b492"
      },
      "execution_count": 1236,
      "outputs": [
        {
          "output_type": "execute_result",
          "data": {
            "text/plain": [
              "<matplotlib.axes._subplots.AxesSubplot at 0x7f3ed3e74910>"
            ]
          },
          "metadata": {},
          "execution_count": 1236
        },
        {
          "output_type": "display_data",
          "data": {
            "text/plain": [
              "<Figure size 1440x720 with 1 Axes>"
            ],
            "image/png": "[encoded data removed]"
          },
          "metadata": {
            "needs_background": "light"
          }
        }
      ]
    },
    {
      "cell_type": "markdown",
      "source": [
        "## Normalização"
      ],
      "metadata": {
        "id": "CNjw17sr6ANr"
      }
    },
    {
      "cell_type": "code",
      "source": [
        "# Vamos normalizar os dados\n",
        "X = dataset.drop('Outcome', axis = 1)\n",
        "y = dataset['Outcome']\n",
        "def mean_norm(df_input):\n",
        "    # A normalização é feita subtraindo a média e dividindo pelo desvio padrão para todos os elementos do dataframe.\n",
        "    return df_input.apply(lambda x: (x-x.mean())/ x.std(), axis=0)\n",
        "X_nomalizado = mean_norm(X)"
      ],
      "metadata": {
        "id": "8SWU0duTNFXk"
      },
      "execution_count": 1237,
      "outputs": []
    },
    {
      "cell_type": "code",
      "source": [
        "X_nomalizado.boxplot(figsize=(20,10))"
      ],
      "metadata": {
        "colab": {
          "base_uri": "https://localhost:8080/",
          "height": 0
        },
        "id": "LnT_R1j-NKx3",
        "outputId": "4d1c8ca2-42e4-4095-f52c-b043a533292a"
      },
      "execution_count": 1238,
      "outputs": [
        {
          "output_type": "execute_result",
          "data": {
            "text/plain": [
              "<matplotlib.axes._subplots.AxesSubplot at 0x7f3ed2f49f90>"
            ]
          },
          "metadata": {},
          "execution_count": 1238
        },
        {
          "output_type": "display_data",
          "data": {
            "text/plain": [
              "<Figure size 1440x720 with 1 Axes>"
            ],
            "image/png": "[encoded data removed]"
          },
          "metadata": {
            "needs_background": "light"
          }
        }
      ]
    },
    {
      "cell_type": "markdown",
      "source": [
        "Há muitos outliers no dataset! \n",
        "Vamos trata-los posteriormente"
      ],
      "metadata": {
        "id": "7_UXX4QlcGk_"
      }
    },
    {
      "cell_type": "code",
      "source": [
        "result = pd.concat([y, X_nomalizado], axis=1)"
      ],
      "metadata": {
        "id": "tmXnJ-A3NY4c"
      },
      "execution_count": 1239,
      "outputs": []
    },
    {
      "cell_type": "code",
      "source": [
        "# 5 primeiras linhas do dataset\n",
        "result.head()"
      ],
      "metadata": {
        "colab": {
          "base_uri": "https://localhost:8080/",
          "height": 0
        },
        "id": "U0MR89foNde_",
        "outputId": "a0c9e391-3bb7-453e-96d3-43db9f418671"
      },
      "execution_count": 1240,
      "outputs": [
        {
          "output_type": "execute_result",
          "data": {
            "text/plain": [
              "   Outcome  Pregnancies   Glucose  BloodPressure  SkinThickness   Insulin  \\\n",
              "0        1     0.639530  0.865481      -0.031969       0.830572 -0.607805   \n",
              "1        0    -0.844335 -1.204281      -0.527975       0.180449 -0.607805   \n",
              "2        1     1.233077  2.015348      -0.693310      -0.469675 -0.607805   \n",
              "3        0    -0.844335 -1.072868      -0.527975      -0.469675 -0.006181   \n",
              "4        1    -1.141108  0.504094      -2.677331       0.830572  0.694925   \n",
              "\n",
              "        BMI  DiabetesPedigreeFunction       Age  \n",
              "0  0.167131                  0.468187  1.425067  \n",
              "1 -0.850996                 -0.364823 -0.190548  \n",
              "2 -1.330971                  0.604004 -0.105515  \n",
              "3 -0.632826                 -0.920163 -1.040871  \n",
              "4  1.548876                  5.481337 -0.020483  "
            ],
            "text/html": [
              "\n",
              "  <div id=\"df-df0292f5-8839-41cd-a59b-d709502ab7ef\">\n",
              "    <div class=\"colab-df-container\">\n",
              "      <div>\n",
              "<style scoped>\n",
              "    .dataframe tbody tr th:only-of-type {\n",
              "        vertical-align: middle;\n",
              "    }\n",
              "\n",
              "    .dataframe tbody tr th {\n",
              "        vertical-align: top;\n",
              "    }\n",
              "\n",
              "    .dataframe thead th {\n",
              "        text-align: right;\n",
              "    }\n",
              "</style>\n",
              "<table border=\"1\" class=\"dataframe\">\n",
              "  <thead>\n",
              "    <tr style=\"text-align: right;\">\n",
              "      <th></th>\n",
              "      <th>Outcome</th>\n",
              "      <th>Pregnancies</th>\n",
              "      <th>Glucose</th>\n",
              "      <th>BloodPressure</th>\n",
              "      <th>SkinThickness</th>\n",
              "      <th>Insulin</th>\n",
              "      <th>BMI</th>\n",
              "      <th>DiabetesPedigreeFunction</th>\n",
              "      <th>Age</th>\n",
              "    </tr>\n",
              "  </thead>\n",
              "  <tbody>\n",
              "    <tr>\n",
              "      <th>0</th>\n",
              "      <td>1</td>\n",
              "      <td>0.639530</td>\n",
              "      <td>0.865481</td>\n",
              "      <td>-0.031969</td>\n",
              "      <td>0.830572</td>\n",
              "      <td>-0.607805</td>\n",
              "      <td>0.167131</td>\n",
              "      <td>0.468187</td>\n",
              "      <td>1.425067</td>\n",
              "    </tr>\n",
              "    <tr>\n",
              "      <th>1</th>\n",
              "      <td>0</td>\n",
              "      <td>-0.844335</td>\n",
              "      <td>-1.204281</td>\n",
              "      <td>-0.527975</td>\n",
              "      <td>0.180449</td>\n",
              "      <td>-0.607805</td>\n",
              "      <td>-0.850996</td>\n",
              "      <td>-0.364823</td>\n",
              "      <td>-0.190548</td>\n",
              "    </tr>\n",
              "    <tr>\n",
              "      <th>2</th>\n",
              "      <td>1</td>\n",
              "      <td>1.233077</td>\n",
              "      <td>2.015348</td>\n",
              "      <td>-0.693310</td>\n",
              "      <td>-0.469675</td>\n",
              "      <td>-0.607805</td>\n",
              "      <td>-1.330971</td>\n",
              "      <td>0.604004</td>\n",
              "      <td>-0.105515</td>\n",
              "    </tr>\n",
              "    <tr>\n",
              "      <th>3</th>\n",
              "      <td>0</td>\n",
              "      <td>-0.844335</td>\n",
              "      <td>-1.072868</td>\n",
              "      <td>-0.527975</td>\n",
              "      <td>-0.469675</td>\n",
              "      <td>-0.006181</td>\n",
              "      <td>-0.632826</td>\n",
              "      <td>-0.920163</td>\n",
              "      <td>-1.040871</td>\n",
              "    </tr>\n",
              "    <tr>\n",
              "      <th>4</th>\n",
              "      <td>1</td>\n",
              "      <td>-1.141108</td>\n",
              "      <td>0.504094</td>\n",
              "      <td>-2.677331</td>\n",
              "      <td>0.830572</td>\n",
              "      <td>0.694925</td>\n",
              "      <td>1.548876</td>\n",
              "      <td>5.481337</td>\n",
              "      <td>-0.020483</td>\n",
              "    </tr>\n",
              "  </tbody>\n",
              "</table>\n",
              "</div>\n",
              "      <button class=\"colab-df-convert\" onclick=\"convertToInteractive('df-df0292f5-8839-41cd-a59b-d709502ab7ef')\"\n",
              "              title=\"Convert this dataframe to an interactive table.\"\n",
              "              style=\"display:none;\">\n",
              "        \n",
              "  <svg xmlns=\"http://www.w3.org/2000/svg\" height=\"24px\"viewBox=\"0 0 24 24\"\n",
              "       width=\"24px\">\n",
              "    <path d=\"M0 0h24v24H0V0z\" fill=\"none\"/>\n",
              "    <path d=\"M18.56 5.44l.94 2.06.94-2.06 2.06-.94-2.06-.94-.94-2.06-.94 2.06-2.06.94zm-11 1L8.5 8.5l.94-2.06 2.06-.94-2.06-.94L8.5 2.5l-.94 2.06-2.06.94zm10 10l.94 2.06.94-2.06 2.06-.94-2.06-.94-.94-2.06-.94 2.06-2.06.94z\"/><path d=\"M17.41 7.96l-1.37-1.37c-.4-.4-.92-.59-1.43-.59-.52 0-1.04.2-1.43.59L10.3 9.45l-7.72 7.72c-.78.78-.78 2.05 0 2.83L4 21.41c.39.39.9.59 1.41.59.51 0 1.02-.2 1.41-.59l7.78-7.78 2.81-2.81c.8-.78.8-2.07 0-2.86zM5.41 20L4 18.59l7.72-7.72 1.47 1.35L5.41 20z\"/>\n",
              "  </svg>\n",
              "      </button>\n",
              "      \n",
              "  <style>\n",
              "    .colab-df-container {\n",
              "      display:flex;\n",
              "      flex-wrap:wrap;\n",
              "      gap: 12px;\n",
              "    }\n",
              "\n",
              "    .colab-df-convert {\n",
              "      background-color: #E8F0FE;\n",
              "      border: none;\n",
              "      border-radius: 50%;\n",
              "      cursor: pointer;\n",
              "      display: none;\n",
              "      fill: #1967D2;\n",
              "      height: 32px;\n",
              "      padding: 0 0 0 0;\n",
              "      width: 32px;\n",
              "    }\n",
              "\n",
              "    .colab-df-convert:hover {\n",
              "      background-color: #E2EBFA;\n",
              "      box-shadow: 0px 1px 2px rgba(60, 64, 67, 0.3), 0px 1px 3px 1px rgba(60, 64, 67, 0.15);\n",
              "      fill: #174EA6;\n",
              "    }\n",
              "\n",
              "    [theme=dark] .colab-df-convert {\n",
              "      background-color: #3B4455;\n",
              "      fill: #D2E3FC;\n",
              "    }\n",
              "\n",
              "    [theme=dark] .colab-df-convert:hover {\n",
              "      background-color: #434B5C;\n",
              "      box-shadow: 0px 1px 3px 1px rgba(0, 0, 0, 0.15);\n",
              "      filter: drop-shadow(0px 1px 2px rgba(0, 0, 0, 0.3));\n",
              "      fill: #FFFFFF;\n",
              "    }\n",
              "  </style>\n",
              "\n",
              "      <script>\n",
              "        const buttonEl =\n",
              "          document.querySelector('#df-df0292f5-8839-41cd-a59b-d709502ab7ef button.colab-df-convert');\n",
              "        buttonEl.style.display =\n",
              "          google.colab.kernel.accessAllowed ? 'block' : 'none';\n",
              "\n",
              "        async function convertToInteractive(key) {\n",
              "          const element = document.querySelector('#df-df0292f5-8839-41cd-a59b-d709502ab7ef');\n",
              "          const dataTable =\n",
              "            await google.colab.kernel.invokeFunction('convertToInteractive',\n",
              "                                                     [key], {});\n",
              "          if (!dataTable) return;\n",
              "\n",
              "          const docLinkHtml = 'Like what you see? Visit the ' +\n",
              "            '<a target=\"_blank\" href=https://colab.research.google.com/notebooks/data_table.ipynb>data table notebook</a>'\n",
              "            + ' to learn more about interactive tables.';\n",
              "          element.innerHTML = '';\n",
              "          dataTable['output_type'] = 'display_data';\n",
              "          await google.colab.output.renderOutput(dataTable, element);\n",
              "          const docLink = document.createElement('div');\n",
              "          docLink.innerHTML = docLinkHtml;\n",
              "          element.appendChild(docLink);\n",
              "        }\n",
              "      </script>\n",
              "    </div>\n",
              "  </div>\n",
              "  "
            ]
          },
          "metadata": {},
          "execution_count": 1240
        }
      ]
    },
    {
      "cell_type": "markdown",
      "source": [
        "## Caso 1) Todos os Atributos sem Nenhum Tratamento\n",
        "## Regressão Logística"
      ],
      "metadata": {
        "id": "W6oe_z0Z6JG7"
      }
    },
    {
      "cell_type": "code",
      "source": [
        "X1 = result.drop('Outcome', axis = 1)\n",
        "y1 = result['Outcome']\n",
        "X_train, X_test, y_train, y_test = train_test_split(X1, y1, test_size = 0.3)"
      ],
      "metadata": {
        "id": "fzgEvzi_RCRI"
      },
      "execution_count": 1241,
      "outputs": []
    },
    {
      "cell_type": "code",
      "source": [
        "from sklearn.linear_model import LogisticRegression\n",
        "logreg = LogisticRegression()\n",
        "logreg.fit(X_train, y_train)\n",
        "predictions = logreg.predict(X_test)"
      ],
      "metadata": {
        "id": "yOazkwVuRF6F"
      },
      "execution_count": 1242,
      "outputs": []
    },
    {
      "cell_type": "code",
      "source": [
        "from sklearn.metrics import classification_report\n",
        "print(classification_report(y_test, predictions))\n",
        "#auc = metrics.accuracy_score(y_test, predictions)\n",
        "#print(auc)"
      ],
      "metadata": {
        "colab": {
          "base_uri": "https://localhost:8080/"
        },
        "id": "2UoFUpXMRObc",
        "outputId": "19d16c3e-936a-4108-e926-0d43f64a09d3"
      },
      "execution_count": 1243,
      "outputs": [
        {
          "output_type": "stream",
          "name": "stdout",
          "text": [
            "              precision    recall  f1-score   support\n",
            "\n",
            "           0       0.80      0.86      0.82       154\n",
            "           1       0.66      0.56      0.61        77\n",
            "\n",
            "    accuracy                           0.76       231\n",
            "   macro avg       0.73      0.71      0.72       231\n",
            "weighted avg       0.75      0.76      0.75       231\n",
            "\n"
          ]
        }
      ]
    },
    {
      "cell_type": "code",
      "source": [
        "#Matriz de confusão\n",
        "from sklearn.metrics import confusion_matrix, accuracy_score\n",
        "cm_log = confusion_matrix(y_test,predictions)\n",
        "print(cm_log)\n",
        "sns.heatmap(pd.DataFrame(cm_log),cmap=\"Reds\",annot=True,fmt='g')\n",
        "plt.title('Confusion Matrix', y=1.1)"
      ],
      "metadata": {
        "colab": {
          "base_uri": "https://localhost:8080/",
          "height": 336
        },
        "id": "zp5tTNNzR2tn",
        "outputId": "37dbe9fd-24a9-42e1-b6fb-1e5a21d32dad"
      },
      "execution_count": 1244,
      "outputs": [
        {
          "output_type": "stream",
          "name": "stdout",
          "text": [
            "[[132  22]\n",
            " [ 34  43]]\n"
          ]
        },
        {
          "output_type": "execute_result",
          "data": {
            "text/plain": [
              "Text(0.5, 1.1, 'Confusion Matrix')"
            ]
          },
          "metadata": {},
          "execution_count": 1244
        },
        {
          "output_type": "display_data",
          "data": {
            "text/plain": [
              "<Figure size 432x288 with 2 Axes>"
            ],
            "image/png": "[encoded data removed]"
          },
          "metadata": {
            "needs_background": "light"
          }
        }
      ]
    },
    {
      "cell_type": "markdown",
      "source": [
        "## SVM"
      ],
      "metadata": {
        "id": "Yj7pm_zg6Tfn"
      }
    },
    {
      "cell_type": "code",
      "source": [
        "from sklearn import svm\n",
        "clf = svm.SVC()\n",
        "svc = clf.fit(X_train, y_train).predict(X_test)\n",
        "print(classification_report(y_test, svc))"
      ],
      "metadata": {
        "colab": {
          "base_uri": "https://localhost:8080/"
        },
        "id": "IPIEK-Js9ZCr",
        "outputId": "4c62bec5-f4f6-4fcc-a572-aea887c1f30c"
      },
      "execution_count": 1245,
      "outputs": [
        {
          "output_type": "stream",
          "name": "stdout",
          "text": [
            "              precision    recall  f1-score   support\n",
            "\n",
            "           0       0.79      0.83      0.81       154\n",
            "           1       0.62      0.55      0.58        77\n",
            "\n",
            "    accuracy                           0.74       231\n",
            "   macro avg       0.70      0.69      0.69       231\n",
            "weighted avg       0.73      0.74      0.73       231\n",
            "\n"
          ]
        }
      ]
    },
    {
      "cell_type": "code",
      "source": [
        "cm_svm = confusion_matrix(y_test,svc)\n",
        "print(cm_svm)\n",
        "sns.heatmap(pd.DataFrame(cm_svm),cmap=\"Reds\",annot=True,fmt='g')\n",
        "plt.title('Confusion Matrix', y=1.1)"
      ],
      "metadata": {
        "colab": {
          "base_uri": "https://localhost:8080/",
          "height": 336
        },
        "id": "9qp3DBne9jTz",
        "outputId": "b7104c36-4502-4f5a-c8c0-d0881fdcc589"
      },
      "execution_count": 1246,
      "outputs": [
        {
          "output_type": "stream",
          "name": "stdout",
          "text": [
            "[[128  26]\n",
            " [ 35  42]]\n"
          ]
        },
        {
          "output_type": "execute_result",
          "data": {
            "text/plain": [
              "Text(0.5, 1.1, 'Confusion Matrix')"
            ]
          },
          "metadata": {},
          "execution_count": 1246
        },
        {
          "output_type": "display_data",
          "data": {
            "text/plain": [
              "<Figure size 432x288 with 2 Axes>"
            ],
            "image/png": "[encoded data removed]"
          },
          "metadata": {
            "needs_background": "light"
          }
        }
      ]
    },
    {
      "cell_type": "markdown",
      "source": [
        "## Bayes"
      ],
      "metadata": {
        "id": "2DeAYjy962jZ"
      }
    },
    {
      "cell_type": "code",
      "source": [
        " from sklearn.naive_bayes import GaussianNB\n",
        " gnb = GaussianNB()\n",
        " bayes = gnb.fit(X_train, y_train).predict(X_test)\n",
        " print(classification_report(y_test, bayes))"
      ],
      "metadata": {
        "colab": {
          "base_uri": "https://localhost:8080/"
        },
        "id": "0_dYjnyy66Mx",
        "outputId": "7c70945b-eb5b-4431-f5bc-a317985d7d8e"
      },
      "execution_count": 1247,
      "outputs": [
        {
          "output_type": "stream",
          "name": "stdout",
          "text": [
            "              precision    recall  f1-score   support\n",
            "\n",
            "           0       0.80      0.80      0.80       154\n",
            "           1       0.60      0.60      0.60        77\n",
            "\n",
            "    accuracy                           0.73       231\n",
            "   macro avg       0.70      0.70      0.70       231\n",
            "weighted avg       0.73      0.73      0.73       231\n",
            "\n"
          ]
        }
      ]
    },
    {
      "cell_type": "code",
      "source": [
        "cm_bayes = confusion_matrix(y_test,bayes)\n",
        "print(cm_bayes)\n",
        "sns.heatmap(pd.DataFrame(cm_bayes),cmap=\"Reds\",annot=True,fmt='g')\n",
        "plt.title('Confusion Matrix', y=1.1)"
      ],
      "metadata": {
        "colab": {
          "base_uri": "https://localhost:8080/",
          "height": 336
        },
        "id": "neC0Kk8877mz",
        "outputId": "0a1f726f-b7a4-439e-bf70-67317e13c94d"
      },
      "execution_count": 1248,
      "outputs": [
        {
          "output_type": "stream",
          "name": "stdout",
          "text": [
            "[[123  31]\n",
            " [ 31  46]]\n"
          ]
        },
        {
          "output_type": "execute_result",
          "data": {
            "text/plain": [
              "Text(0.5, 1.1, 'Confusion Matrix')"
            ]
          },
          "metadata": {},
          "execution_count": 1248
        },
        {
          "output_type": "display_data",
          "data": {
            "text/plain": [
              "<Figure size 432x288 with 2 Axes>"
            ],
            "image/png": "[encoded data removed]"
          },
          "metadata": {
            "needs_background": "light"
          }
        }
      ]
    },
    {
      "cell_type": "markdown",
      "source": [
        "## Executando 5 vezes, no geral, a Regressão Logística apresentou as melhores métricas e o Naive Bayes as piores."
      ],
      "metadata": {
        "id": "NIGBIvXqminm"
      }
    },
    {
      "cell_type": "markdown",
      "source": [
        "## Caso 2) Atributos mais Correlacionados\n",
        "## Regressão Logística"
      ],
      "metadata": {
        "id": "aE8H-vLW6XlL"
      }
    },
    {
      "cell_type": "code",
      "source": [
        "# Glicose, BMI e idade\n",
        "atributos_novos1 = [\"Outcome\",\"Glucose\", \"BMI\", \"Age\"]\n",
        "diabetes_data = result[atributos_novos1]\n",
        "x_novo1 = diabetes_data.drop('Outcome', axis = 1)\n",
        "y_novo1 = diabetes_data[\"Outcome\"]\n",
        "X1_train, X1_test, y1_train, y1_test = train_test_split(x_novo1, y_novo1, test_size = 0.3)"
      ],
      "metadata": {
        "id": "ZFSpA93Fcuxy"
      },
      "execution_count": 1249,
      "outputs": []
    },
    {
      "cell_type": "code",
      "source": [
        "logreg = LogisticRegression()\n",
        "logreg.fit(X1_train, y1_train)\n",
        "predictions1 = logreg.predict(X1_test)"
      ],
      "metadata": {
        "id": "IP6Y0s-sc6fG"
      },
      "execution_count": 1250,
      "outputs": []
    },
    {
      "cell_type": "code",
      "source": [
        "from sklearn.metrics import classification_report\n",
        "print(classification_report(y1_test, predictions1))"
      ],
      "metadata": {
        "colab": {
          "base_uri": "https://localhost:8080/"
        },
        "id": "__TD9_2XdC7n",
        "outputId": "816a8b45-5524-4b32-93f5-3b9fc5db83ce"
      },
      "execution_count": 1251,
      "outputs": [
        {
          "output_type": "stream",
          "name": "stdout",
          "text": [
            "              precision    recall  f1-score   support\n",
            "\n",
            "           0       0.80      0.88      0.84       150\n",
            "           1       0.73      0.59      0.65        81\n",
            "\n",
            "    accuracy                           0.78       231\n",
            "   macro avg       0.76      0.74      0.75       231\n",
            "weighted avg       0.77      0.78      0.77       231\n",
            "\n"
          ]
        }
      ]
    },
    {
      "cell_type": "code",
      "source": [
        "cm_log1 = confusion_matrix(y1_test,predictions1)\n",
        "print(cm_log1)\n",
        "sns.heatmap(pd.DataFrame(cm_log1),cmap=\"Blues\",annot=True,fmt='g')\n",
        "plt.title('Confusion Matrix', y=1.1)"
      ],
      "metadata": {
        "colab": {
          "base_uri": "https://localhost:8080/",
          "height": 336
        },
        "id": "VicStfeB8wsa",
        "outputId": "c8a5beb2-dd39-4d3c-89ae-fde1e541019f"
      },
      "execution_count": 1252,
      "outputs": [
        {
          "output_type": "stream",
          "name": "stdout",
          "text": [
            "[[132  18]\n",
            " [ 33  48]]\n"
          ]
        },
        {
          "output_type": "execute_result",
          "data": {
            "text/plain": [
              "Text(0.5, 1.1, 'Confusion Matrix')"
            ]
          },
          "metadata": {},
          "execution_count": 1252
        },
        {
          "output_type": "display_data",
          "data": {
            "text/plain": [
              "<Figure size 432x288 with 2 Axes>"
            ],
            "image/png": "[encoded data removed]"
          },
          "metadata": {
            "needs_background": "light"
          }
        }
      ]
    },
    {
      "cell_type": "markdown",
      "source": [
        "##  SVM"
      ],
      "metadata": {
        "id": "mYO-i72D-IHv"
      }
    },
    {
      "cell_type": "code",
      "source": [
        "from sklearn import svm\n",
        "clf = svm.SVC()\n",
        "svc1 = clf.fit(X1_train, y1_train).predict(X1_test)\n",
        "print(classification_report(y1_test, svc1))"
      ],
      "metadata": {
        "colab": {
          "base_uri": "https://localhost:8080/"
        },
        "outputId": "014188be-2939-4dd0-fc54-b4aeee534c18",
        "id": "1Lb0qbbY-IH2"
      },
      "execution_count": 1253,
      "outputs": [
        {
          "output_type": "stream",
          "name": "stdout",
          "text": [
            "              precision    recall  f1-score   support\n",
            "\n",
            "           0       0.81      0.86      0.83       150\n",
            "           1       0.71      0.63      0.67        81\n",
            "\n",
            "    accuracy                           0.78       231\n",
            "   macro avg       0.76      0.74      0.75       231\n",
            "weighted avg       0.78      0.78      0.78       231\n",
            "\n"
          ]
        }
      ]
    },
    {
      "cell_type": "code",
      "source": [
        "cm_svm1 = confusion_matrix(y_test,svc)\n",
        "print(cm_svm1)\n",
        "sns.heatmap(pd.DataFrame(cm_svm1),cmap=\"Blues\",annot=True,fmt='g')\n",
        "plt.title('Confusion Matrix', y=1.1)"
      ],
      "metadata": {
        "colab": {
          "base_uri": "https://localhost:8080/",
          "height": 336
        },
        "outputId": "188cea16-81d2-4553-9daf-8403c8c21067",
        "id": "sKQgY2g3-IH2"
      },
      "execution_count": 1254,
      "outputs": [
        {
          "output_type": "stream",
          "name": "stdout",
          "text": [
            "[[128  26]\n",
            " [ 35  42]]\n"
          ]
        },
        {
          "output_type": "execute_result",
          "data": {
            "text/plain": [
              "Text(0.5, 1.1, 'Confusion Matrix')"
            ]
          },
          "metadata": {},
          "execution_count": 1254
        },
        {
          "output_type": "display_data",
          "data": {
            "text/plain": [
              "<Figure size 432x288 with 2 Axes>"
            ],
            "image/png": "[encoded data removed]"
          },
          "metadata": {
            "needs_background": "light"
          }
        }
      ]
    },
    {
      "cell_type": "markdown",
      "source": [
        "## Bayes"
      ],
      "metadata": {
        "id": "QddZCfdfAr6D"
      }
    },
    {
      "cell_type": "code",
      "source": [
        " from sklearn.naive_bayes import GaussianNB\n",
        " gnb = GaussianNB()\n",
        " bayes1 = gnb.fit(X1_train, y1_train).predict(X1_test)\n",
        " print(classification_report(y1_test, bayes1))"
      ],
      "metadata": {
        "colab": {
          "base_uri": "https://localhost:8080/"
        },
        "outputId": "aa91e828-a79c-44c3-85cb-186db950ea00",
        "id": "RY3F2Z5aAr6E"
      },
      "execution_count": 1255,
      "outputs": [
        {
          "output_type": "stream",
          "name": "stdout",
          "text": [
            "              precision    recall  f1-score   support\n",
            "\n",
            "           0       0.80      0.87      0.84       150\n",
            "           1       0.72      0.60      0.66        81\n",
            "\n",
            "    accuracy                           0.78       231\n",
            "   macro avg       0.76      0.74      0.75       231\n",
            "weighted avg       0.77      0.78      0.77       231\n",
            "\n"
          ]
        }
      ]
    },
    {
      "cell_type": "code",
      "source": [
        "cm_bayes1 = confusion_matrix(y1_test,bayes1)\n",
        "print(cm_bayes1)\n",
        "sns.heatmap(pd.DataFrame(cm_bayes1),cmap=\"Blues\",annot=True,fmt='g')\n",
        "plt.title('Confusion Matrix', y=1.1)"
      ],
      "metadata": {
        "colab": {
          "base_uri": "https://localhost:8080/",
          "height": 336
        },
        "outputId": "0cc07855-cb16-419e-e40d-78b19520f3df",
        "id": "-qg2F72vAr6E"
      },
      "execution_count": 1256,
      "outputs": [
        {
          "output_type": "stream",
          "name": "stdout",
          "text": [
            "[[131  19]\n",
            " [ 32  49]]\n"
          ]
        },
        {
          "output_type": "execute_result",
          "data": {
            "text/plain": [
              "Text(0.5, 1.1, 'Confusion Matrix')"
            ]
          },
          "metadata": {},
          "execution_count": 1256
        },
        {
          "output_type": "display_data",
          "data": {
            "text/plain": [
              "<Figure size 432x288 with 2 Axes>"
            ],
            "image/png": "[encoded data removed]"
          },
          "metadata": {
            "needs_background": "light"
          }
        }
      ]
    },
    {
      "cell_type": "markdown",
      "source": [
        "## Esperavamos obter alguma mudança pegando os atributos mais correlacionados com o Outcome. O que não aconteceu. O que leva a creer que possivelmente os outros atributos não tem impacto significativo na costrução da árvore.\n",
        "## Executando 10 vezes, não observamos nenhum destaque entre os modelos de Regressão Logistica, SVM e Naive Bayes.\n"
      ],
      "metadata": {
        "id": "Gq9cKVTVLyy2"
      }
    },
    {
      "cell_type": "markdown",
      "source": [
        "## Tratando Outliers"
      ],
      "metadata": {
        "id": "eit9WguPAG5_"
      }
    },
    {
      "cell_type": "code",
      "source": [
        "x_novo1.boxplot(figsize=(20,10))"
      ],
      "metadata": {
        "colab": {
          "base_uri": "https://localhost:8080/",
          "height": 610
        },
        "id": "rZ6Cf-H9nHIR",
        "outputId": "09dc6572-4bb8-41b0-9d15-914a5158bbeb"
      },
      "execution_count": 1257,
      "outputs": [
        {
          "output_type": "execute_result",
          "data": {
            "text/plain": [
              "<matplotlib.axes._subplots.AxesSubplot at 0x7f3ed2a7fe50>"
            ]
          },
          "metadata": {},
          "execution_count": 1257
        },
        {
          "output_type": "display_data",
          "data": {
            "text/plain": [
              "<Figure size 1440x720 with 1 Axes>"
            ],
            "image/png": "[encoded data removed]"
          },
          "metadata": {
            "needs_background": "light"
          }
        }
      ]
    },
    {
      "cell_type": "code",
      "source": [
        "# Método de John Tukey\n",
        "# Utiliza a faixa interquartil para peneirar números enormes ou extremamente pequenos. \n",
        "from numpy import percentile\n",
        "total=0\n",
        "for column in diabetes_data.columns:\n",
        "    q25, q75 = percentile(diabetes_data[column], 25), percentile(diabetes_data[column], 75)\n",
        "    iqr = q75 - q25\n",
        "    cut_off = iqr * 1.5\n",
        "    lower, upper = q25 - cut_off, q75 + cut_off\n",
        "    # identifica outliers\n",
        "    outliers = [x for x in diabetes_data[column] if x < lower or x > upper]\n",
        "    print(\"Coluna: \",column)\n",
        "    print('Outliers encontrados: %d' % len(outliers))\n",
        "    print()\n",
        "    total+=len(outliers)\n",
        "    # remove outliers\n",
        "    outliers_removed = [x for x in diabetes_data[column] if x >= lower and x <= upper]\n",
        "    diabetes_data = diabetes_data[diabetes_data[column] < upper]\n",
        "print(\"Total de outliers: \",total)"
      ],
      "metadata": {
        "colab": {
          "base_uri": "https://localhost:8080/"
        },
        "id": "a9HpsG11nnnx",
        "outputId": "a1fdb3b1-f680-4427-e716-3aeaf03d55e0"
      },
      "execution_count": 1258,
      "outputs": [
        {
          "output_type": "stream",
          "name": "stdout",
          "text": [
            "Coluna:  Outcome\n",
            "Outliers encontrados: 0\n",
            "\n",
            "Coluna:  Glucose\n",
            "Outliers encontrados: 0\n",
            "\n",
            "Coluna:  BMI\n",
            "Outliers encontrados: 8\n",
            "\n",
            "Coluna:  Age\n",
            "Outliers encontrados: 9\n",
            "\n",
            "Total de outliers:  17\n"
          ]
        }
      ]
    },
    {
      "cell_type": "code",
      "source": [
        "x_novo2 = diabetes_data.drop('Outcome', axis = 1)\n",
        "x_novo2.boxplot(figsize=(20,10))"
      ],
      "metadata": {
        "colab": {
          "base_uri": "https://localhost:8080/",
          "height": 610
        },
        "id": "dG1R5pfknu2W",
        "outputId": "0301defd-61f6-4c86-ef58-a294a5b10ba6"
      },
      "execution_count": 1259,
      "outputs": [
        {
          "output_type": "execute_result",
          "data": {
            "text/plain": [
              "<matplotlib.axes._subplots.AxesSubplot at 0x7f3ed29a0d90>"
            ]
          },
          "metadata": {},
          "execution_count": 1259
        },
        {
          "output_type": "display_data",
          "data": {
            "text/plain": [
              "<Figure size 1440x720 with 1 Axes>"
            ],
            "image/png": "[encoded data removed]"
          },
          "metadata": {
            "needs_background": "light"
          }
        }
      ]
    },
    {
      "cell_type": "markdown",
      "source": [
        "## Caso 3) Atributos mais Correlacionados com Outliers Tratados\n",
        "## Regressão Logística"
      ],
      "metadata": {
        "id": "9U5cAN8DW-O4"
      }
    },
    {
      "cell_type": "code",
      "source": [
        "x_novo2 = diabetes_data.drop('Outcome', axis = 1)\n",
        "y_novo2 = diabetes_data[\"Outcome\"]\n",
        "X2_train, X2_test, y2_train, y2_test = train_test_split(x_novo2, y_novo2, test_size = 0.3)"
      ],
      "metadata": {
        "id": "yDvcM0BXpBJK"
      },
      "execution_count": 1260,
      "outputs": []
    },
    {
      "cell_type": "code",
      "source": [
        "logreg = LogisticRegression()\n",
        "logreg.fit(X2_train, y2_train)\n",
        "predictions2 = logreg.predict(X2_test)"
      ],
      "metadata": {
        "id": "UOku3uvOpIY1"
      },
      "execution_count": 1261,
      "outputs": []
    },
    {
      "cell_type": "code",
      "source": [
        "from sklearn.metrics import classification_report\n",
        "print(classification_report(y2_test, predictions2))"
      ],
      "metadata": {
        "colab": {
          "base_uri": "https://localhost:8080/"
        },
        "id": "aGRbDPE7pMlf",
        "outputId": "76f694ca-e068-4c4d-b26a-6c23c982563f"
      },
      "execution_count": 1262,
      "outputs": [
        {
          "output_type": "stream",
          "name": "stdout",
          "text": [
            "              precision    recall  f1-score   support\n",
            "\n",
            "           0       0.80      0.85      0.83       150\n",
            "           1       0.67      0.58      0.62        76\n",
            "\n",
            "    accuracy                           0.76       226\n",
            "   macro avg       0.73      0.72      0.72       226\n",
            "weighted avg       0.76      0.76      0.76       226\n",
            "\n"
          ]
        }
      ]
    },
    {
      "cell_type": "code",
      "source": [
        "#Matriz de confusão\n",
        "from sklearn.metrics import confusion_matrix, accuracy_score\n",
        "cm_log2 = confusion_matrix(y2_test,predictions2)\n",
        "print(cm_log2)\n",
        "sns.heatmap(pd.DataFrame(cm_log2),cmap=\"YlGn_r\",annot=True,fmt='g')\n",
        "plt.title('Confusion Matrix', y=1.1)"
      ],
      "metadata": {
        "colab": {
          "base_uri": "https://localhost:8080/",
          "height": 336
        },
        "id": "S8j3KSmdXLKy",
        "outputId": "a36d9344-1d6b-49fc-e68b-f004d2b5d22d"
      },
      "execution_count": 1263,
      "outputs": [
        {
          "output_type": "stream",
          "name": "stdout",
          "text": [
            "[[128  22]\n",
            " [ 32  44]]\n"
          ]
        },
        {
          "output_type": "execute_result",
          "data": {
            "text/plain": [
              "Text(0.5, 1.1, 'Confusion Matrix')"
            ]
          },
          "metadata": {},
          "execution_count": 1263
        },
        {
          "output_type": "display_data",
          "data": {
            "text/plain": [
              "<Figure size 432x288 with 2 Axes>"
            ],
            "image/png": "[encoded data removed]"
          },
          "metadata": {
            "needs_background": "light"
          }
        }
      ]
    },
    {
      "cell_type": "markdown",
      "source": [
        "## SVM"
      ],
      "metadata": {
        "id": "nSJHfQRLYCSE"
      }
    },
    {
      "cell_type": "code",
      "source": [
        "from sklearn import svm\n",
        "clf = svm.SVC()\n",
        "svc2 = clf.fit(X2_train, y2_train).predict(X2_test)\n",
        "print(classification_report(y2_test, svc2))"
      ],
      "metadata": {
        "colab": {
          "base_uri": "https://localhost:8080/"
        },
        "id": "JPwrh8nbYEtF",
        "outputId": "2d4bfcb4-839b-41d9-9728-7efa2b4f105a"
      },
      "execution_count": 1264,
      "outputs": [
        {
          "output_type": "stream",
          "name": "stdout",
          "text": [
            "              precision    recall  f1-score   support\n",
            "\n",
            "           0       0.79      0.89      0.84       150\n",
            "           1       0.71      0.54      0.61        76\n",
            "\n",
            "    accuracy                           0.77       226\n",
            "   macro avg       0.75      0.71      0.72       226\n",
            "weighted avg       0.76      0.77      0.76       226\n",
            "\n"
          ]
        }
      ]
    },
    {
      "cell_type": "code",
      "source": [
        "cm_svm2 = confusion_matrix(y2_test,svc2)\n",
        "print(cm_svm2)\n",
        "sns.heatmap(pd.DataFrame(cm_svm2),cmap=\"YlGn_r\",annot=True,fmt='g')\n",
        "plt.title('Confusion Matrix', y=1.1)"
      ],
      "metadata": {
        "colab": {
          "base_uri": "https://localhost:8080/",
          "height": 336
        },
        "id": "MLGgNHiXYTnH",
        "outputId": "47dd5ecc-4c18-42ee-c81d-2a430ea9572a"
      },
      "execution_count": 1265,
      "outputs": [
        {
          "output_type": "stream",
          "name": "stdout",
          "text": [
            "[[133  17]\n",
            " [ 35  41]]\n"
          ]
        },
        {
          "output_type": "execute_result",
          "data": {
            "text/plain": [
              "Text(0.5, 1.1, 'Confusion Matrix')"
            ]
          },
          "metadata": {},
          "execution_count": 1265
        },
        {
          "output_type": "display_data",
          "data": {
            "text/plain": [
              "<Figure size 432x288 with 2 Axes>"
            ],
            "image/png": "[encoded data removed]"
          },
          "metadata": {
            "needs_background": "light"
          }
        }
      ]
    },
    {
      "cell_type": "markdown",
      "source": [
        "## Bayes"
      ],
      "metadata": {
        "id": "3UhQfTT6YjbU"
      }
    },
    {
      "cell_type": "code",
      "source": [
        " gnb = GaussianNB()\n",
        " bayes2 = gnb.fit(X2_train, y2_train).predict(X2_test)\n",
        " print(classification_report(y2_test, bayes2))"
      ],
      "metadata": {
        "colab": {
          "base_uri": "https://localhost:8080/"
        },
        "id": "sCIeu2kmYu-d",
        "outputId": "431c8ea0-1991-43f2-e690-304c6e631620"
      },
      "execution_count": 1266,
      "outputs": [
        {
          "output_type": "stream",
          "name": "stdout",
          "text": [
            "              precision    recall  f1-score   support\n",
            "\n",
            "           0       0.81      0.82      0.81       150\n",
            "           1       0.64      0.62      0.63        76\n",
            "\n",
            "    accuracy                           0.75       226\n",
            "   macro avg       0.72      0.72      0.72       226\n",
            "weighted avg       0.75      0.75      0.75       226\n",
            "\n"
          ]
        }
      ]
    },
    {
      "cell_type": "code",
      "source": [
        "cm_bayes2 = confusion_matrix(y2_test,bayes2)\n",
        "print(cm_bayes2)\n",
        "sns.heatmap(pd.DataFrame(cm_bayes2),cmap=\"YlGn_r\",annot=True,fmt='g')\n",
        "plt.title('Confusion Matrix', y=1.1)"
      ],
      "metadata": {
        "colab": {
          "base_uri": "https://localhost:8080/",
          "height": 336
        },
        "id": "rdiaI1JMY4bZ",
        "outputId": "c0129ec1-7fab-4010-c002-c88acb495fc3"
      },
      "execution_count": 1267,
      "outputs": [
        {
          "output_type": "stream",
          "name": "stdout",
          "text": [
            "[[123  27]\n",
            " [ 29  47]]\n"
          ]
        },
        {
          "output_type": "execute_result",
          "data": {
            "text/plain": [
              "Text(0.5, 1.1, 'Confusion Matrix')"
            ]
          },
          "metadata": {},
          "execution_count": 1267
        },
        {
          "output_type": "display_data",
          "data": {
            "text/plain": [
              "<Figure size 432x288 with 2 Axes>"
            ],
            "image/png": "[encoded data removed]"
          },
          "metadata": {
            "needs_background": "light"
          }
        }
      ]
    },
    {
      "cell_type": "markdown",
      "source": [
        "##  Esperavamos obter alguma melhorias removenddo os outliers. O que não aconteceu. \n",
        "## Executando 10 vezes, não observamos nenhum destaque entre os modelos de Regressão Logistica, SVM e Naive Bayes."
      ],
      "metadata": {
        "id": "RNG5Tgw_RpoJ"
      }
    }
  ]
}