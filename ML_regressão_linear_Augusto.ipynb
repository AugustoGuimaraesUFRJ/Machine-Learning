{
  "nbformat": 4,
  "nbformat_minor": 0,
  "metadata": {
    "colab": {
      "provenance": [],
      "collapsed_sections": [
        "uUyz0ZGt0NTa"
      ],
      "authorship_tag": "ABX9TyPhYY59fhF1EoMCrrtfexn/",
      "include_colab_link": true
    },
    "kernelspec": {
      "name": "python3",
      "display_name": "Python 3"
    },
    "language_info": {
      "name": "python"
    }
  },
  "cells": [
    {
      "cell_type": "markdown",
      "metadata": {
        "id": "view-in-github",
        "colab_type": "text"
      },
      "source": [
        "<a href=\"https://colab.research.google.com/github/AugustoGuimaraesUFRJ/Machine-Learning/blob/main/ML_regress%C3%A3o_linear_Augusto.ipynb\" target=\"_parent\"><img src=\"https://colab.research.google.com/assets/colab-badge.svg\" alt=\"Open In Colab\"/></a>"
      ]
    },
    {
      "cell_type": "markdown",
      "source": [
        "AUGUSTO GUIMARÃES RODRIGUES DE LIMA DRE: 119025393"
      ],
      "metadata": {
        "id": "OkN9X4a-zOAi"
      }
    },
    {
      "cell_type": "code",
      "execution_count": null,
      "metadata": {
        "id": "Un8IH9bJWSkL"
      },
      "outputs": [],
      "source": [
        "import matplotlib.pyplot as plt\n",
        "import numpy as np\n",
        "from sklearn import datasets, linear_model\n",
        "from sklearn.metrics import mean_squared_error, r2_score\n",
        "from sklearn.linear_model import Ridge\n",
        "import pandas as pd"
      ]
    },
    {
      "cell_type": "markdown",
      "source": [
        "\n",
        "## DATASET INICIAL"
      ],
      "metadata": {
        "id": "62HR-ZIXzYxF"
      }
    },
    {
      "cell_type": "code",
      "source": [
        "data = pd.read_csv('exemplo1-regressaoLinear.csv',header=0)\n",
        "print(data)\n",
        "\n",
        "plt.scatter(data['X'], data['Y'],cmap='red')\n",
        "\n",
        "# rótulo dos eixos e salvando o arquivo com a imagem\n",
        "plt.xlabel(\"Eixo X\")\n",
        "plt.ylabel(\"Eixo Y\")\n",
        "plt.show()"
      ],
      "metadata": {
        "colab": {
          "base_uri": "https://localhost:8080/",
          "height": 470
        },
        "id": "uTGpb0rickyE",
        "outputId": "7b4d744f-ef64-43ad-b738-6591d9730507"
      },
      "execution_count": null,
      "outputs": [
        {
          "output_type": "stream",
          "name": "stdout",
          "text": [
            "           X           Y\n",
            "0  95.724162  197.179636\n",
            "1  35.757619   67.590670\n",
            "2  28.816847   60.854133\n",
            "3  99.958481  196.907397\n",
            "4  66.809748  125.311129\n",
            "5  58.215693  115.785785\n",
            "6  53.821076  110.762773\n",
            "7  81.296082  157.985286\n",
            "8  80.648697  159.619414\n",
            "9  78.252814  149.003866\n"
          ]
        },
        {
          "output_type": "display_data",
          "data": {
            "text/plain": [
              "<Figure size 432x288 with 1 Axes>"
            ],
            "image/png": "[encoded data removed]"
          },
          "metadata": {
            "needs_background": "light"
          }
        }
      ]
    },
    {
      "cell_type": "markdown",
      "source": [
        "##1) Questão"
      ],
      "metadata": {
        "id": "uUyz0ZGt0NTa"
      }
    },
    {
      "cell_type": "markdown",
      "source": [
        "Faca um programa que gere o modelo de regressao linear para os dois datasets\n",
        "usados nesta aula. Os modelos devem ser gerados de duas formas:\n",
        "\n",
        "• Usando as equacoes apresentadas no slide 15.\n",
        "\n",
        "• Usando o modelo de regressao linear disponivel no Scikit."
      ],
      "metadata": {
        "id": "pPypzqbZ0Wxh"
      }
    },
    {
      "cell_type": "code",
      "source": [
        "# Modelo equacional\n",
        "# transformando X e Y para numpy array. Ele precisa ser bidimensional (-1,1)\n",
        "X1 = data.iloc[:, 0].values.reshape(-1, 1) \n",
        "Y1 = data.iloc[:, 1].values.reshape(-1, 1) \n",
        "\n",
        "#Vamos agora calcular a reta da regressão linear usando as fórmulas apresentada\n",
        "\n",
        "mediaX1  = np.mean(X1)\n",
        "mediaX12 = np.mean(X1**2)\n",
        "mediaY1  = np.mean(Y1)\n",
        "mediaY12 = np.mean(Y1**2)\n",
        "mediaX1Y1 = np.mean(X1*Y1)\n",
        "\n",
        "teta0 = (mediaY1*mediaX12 - mediaX1*mediaX1Y1)/(mediaX12 - (mediaX1)**2)\n",
        "teta1 =(mediaX1Y1 - mediaX1*mediaY1)/(mediaX12 - (mediaX1)**2)\n",
        "\n",
        "print('media X:',np.mean(X1))\n",
        "print('media X²:',np.mean(X1**2))\n",
        "print('media Y:',np.mean(Y1))\n",
        "print('media Y²:',np.mean(Y1**2))\n",
        "print('media X*Y:',np.mean(X1*Y1))\n",
        "print()\n",
        "print('teta0:',teta0)\n",
        "print('teta1:',teta1)\n",
        "print()\n",
        "print('Equação da Reta: Y =', teta0,' + ',teta1,'* X' )\n",
        "\n",
        "# plotando os pontos previstos e a reta\n",
        "Y1_previsto = teta0+teta1*X1"
      ],
      "metadata": {
        "colab": {
          "base_uri": "https://localhost:8080/"
        },
        "id": "2ij03b0ZhARo",
        "outputId": "1cee8c5c-a0e1-4cdf-c8d8-f978fb1ceaba"
      },
      "execution_count": null,
      "outputs": [
        {
          "output_type": "stream",
          "name": "stdout",
          "text": [
            "media X: 67.93012202823\n",
            "media X²: 5124.991702295573\n",
            "media Y: 134.1000086212\n",
            "media Y²: 19994.153430738115\n",
            "media X*Y: 10117.850602443814\n",
            "\n",
            "teta0: -0.08892359520679478\n",
            "teta1: 1.9753966018291795\n",
            "\n",
            "Equação da Reta: Y = -0.08892359520679478  +  1.9753966018291795 * X\n"
          ]
        }
      ]
    },
    {
      "cell_type": "code",
      "source": [
        "# Scikit\n",
        "from sklearn.linear_model import LinearRegression\n",
        "regressao = LinearRegression()\n",
        "regressao.fit(X1,Y1) "
      ],
      "metadata": {
        "colab": {
          "base_uri": "https://localhost:8080/"
        },
        "id": "XKjoaOzdjLJP",
        "outputId": "93369642-f81b-4ac4-b7bf-5747757b858d"
      },
      "execution_count": null,
      "outputs": [
        {
          "output_type": "execute_result",
          "data": {
            "text/plain": [
              "LinearRegression()"
            ]
          },
          "metadata": {},
          "execution_count": 6
        }
      ]
    },
    {
      "cell_type": "code",
      "source": [
        "theta0 = regressao.intercept_\n",
        "theta1 = regressao.coef_\n",
        "\n",
        "print(\"Theta 0 encontrado: %f\" % theta0)\n",
        "print(\"Theta 1 encontrado: %f\\n\\n\" % theta1)\n",
        "print('Equação da Reta: Y =', theta0,' + ',theta1,'* X' )"
      ],
      "metadata": {
        "colab": {
          "base_uri": "https://localhost:8080/"
        },
        "id": "81m4dx9yjbW1",
        "outputId": "4b81701b-cacd-4b37-e210-bba7ba0e9952"
      },
      "execution_count": null,
      "outputs": [
        {
          "output_type": "stream",
          "name": "stdout",
          "text": [
            "Theta 0 encontrado: -0.088924\n",
            "Theta 1 encontrado: 1.975397\n",
            "\n",
            "\n",
            "Equação da Reta: Y = [-0.0889236]  +  [[1.9753966]] * X\n"
          ]
        }
      ]
    },
    {
      "cell_type": "code",
      "source": [
        "# Plotando os pontos originais e a reta\n",
        "Y1_previsto= teta0+teta1*X1\n",
        "plt.scatter(X1, Y1,marker='o',color='blue')  #pontos originais\n",
        "plt.plot(X1, Y1_previsto, color='#FF1493')\n",
        "print(Y1_previsto)\n",
        "plt.show()"
      ],
      "metadata": {
        "colab": {
          "base_uri": "https://localhost:8080/"
        },
        "id": "bDz7duxnlJZg",
        "outputId": "4a8051d4-bd8c-444a-976d-eff3b0bc8433"
      },
      "execution_count": null,
      "outputs": [
        {
          "output_type": "stream",
          "name": "stdout",
          "text": [
            "[[189.00426154]\n",
            " [ 70.54655532]\n",
            " [ 56.83577888]\n",
            " [197.36872071]\n",
            " [131.88682619]\n",
            " [114.91015782]\n",
            " [106.22904771]\n",
            " [160.50308087]\n",
            " [159.22423852]\n",
            " [154.49141866]]\n"
          ]
        },
        {
          "output_type": "display_data",
          "data": {
            "text/plain": [
              "<Figure size 432x288 with 1 Axes>"
            ],
            "image/png": "[encoded data removed]"
          },
          "metadata": {
            "needs_background": "light"
          }
        }
      ]
    },
    {
      "cell_type": "code",
      "source": [
        "# Soma das diferenças entre o valor previsto e a média \n",
        "SSR1=np.sum((Y1_previsto-mediaY1)**2)\n",
        "SSR1"
      ],
      "metadata": {
        "colab": {
          "base_uri": "https://localhost:8080/"
        },
        "id": "AeqjEuRvZeqx",
        "outputId": "8a37b236-05eb-49dd-f54a-baf0eed3200d"
      },
      "execution_count": null,
      "outputs": [
        {
          "output_type": "execute_result",
          "data": {
            "text/plain": [
              "19920.30730793024"
            ]
          },
          "metadata": {},
          "execution_count": 9
        }
      ]
    },
    {
      "cell_type": "code",
      "source": [
        "# Soma das diferenças entre o valor real e o valor previsto\n",
        "SSE1=np.sum((Y1-Y1_previsto)**2)\n",
        "SSE1"
      ],
      "metadata": {
        "colab": {
          "base_uri": "https://localhost:8080/"
        },
        "id": "ez_Wczwjbr78",
        "outputId": "a4b9a495-a3c9-40de-dc66-940270a7f916"
      },
      "execution_count": null,
      "outputs": [
        {
          "output_type": "execute_result",
          "data": {
            "text/plain": [
              "193.1038773917731"
            ]
          },
          "metadata": {},
          "execution_count": 10
        }
      ]
    },
    {
      "cell_type": "code",
      "source": [
        "# Diferença entre os valores reais os previstos\n",
        "Erro = Y1 - Y1_previsto\n",
        "print(Erro)\n",
        "\n",
        "# O erro quadrático médio é quão distante o ponto está da linha\n",
        "print(\"Erro quadrático médio:\", mean_squared_error(Y1, Y1_previsto ))"
      ],
      "metadata": {
        "colab": {
          "base_uri": "https://localhost:8080/"
        },
        "id": "mYDnKhB8li4v",
        "outputId": "6442454e-cacf-4efd-b365-0332bb34fba2"
      },
      "execution_count": null,
      "outputs": [
        {
          "output_type": "stream",
          "name": "stdout",
          "text": [
            "[[ 8.17537455]\n",
            " [-2.95588578]\n",
            " [ 4.01835394]\n",
            " [-0.46132373]\n",
            " [-6.57569767]\n",
            " [ 0.87562677]\n",
            " [ 4.533725  ]\n",
            " [-2.51779518]\n",
            " [ 0.39517521]\n",
            " [-5.48755312]]\n",
            "Erro quadrático médio: 19.310387739177308\n"
          ]
        }
      ]
    },
    {
      "cell_type": "code",
      "source": [
        "#Coeficiente de determinação R² da previsão \n",
        "lr = LinearRegression().fit(X1, Y1)\n",
        "print(\"Coeficiente de determinação:\", lr.score(X1, Y1))"
      ],
      "metadata": {
        "colab": {
          "base_uri": "https://localhost:8080/"
        },
        "id": "vgfoG9Ksm4Cc",
        "outputId": "36e0f33c-7c13-4895-ea90-d2c220bc108a"
      },
      "execution_count": null,
      "outputs": [
        {
          "output_type": "stream",
          "name": "stdout",
          "text": [
            "Coeficiente de determinação: 0.9903992477649592\n"
          ]
        }
      ]
    },
    {
      "cell_type": "markdown",
      "source": [
        "## DATASET IRIS"
      ],
      "metadata": {
        "id": "aYMBh00322IQ"
      }
    },
    {
      "cell_type": "code",
      "source": [
        "iris_data = pd.read_csv('iris.csv',header=0)\n",
        "print(iris_data)"
      ],
      "metadata": {
        "colab": {
          "base_uri": "https://localhost:8080/"
        },
        "id": "_E5sPA7Vo_K3",
        "outputId": "c05d1de9-cd42-47c5-cc31-f176a036dfbe"
      },
      "execution_count": null,
      "outputs": [
        {
          "output_type": "stream",
          "name": "stdout",
          "text": [
            "     sepalLengthInCM  sepalWidthInCM  petalLengthInCM  petalWidthInCM  \\\n",
            "0                5.1             3.5              1.4             0.2   \n",
            "1                4.9             3.0              1.4             0.2   \n",
            "2                4.7             3.2              1.3             0.2   \n",
            "3                4.6             3.1              1.5             0.2   \n",
            "4                5.0             3.6              1.4             0.2   \n",
            "..               ...             ...              ...             ...   \n",
            "145              6.7             3.0              5.2             2.3   \n",
            "146              6.3             2.5              5.0             1.9   \n",
            "147              6.5             3.0              5.2             2.0   \n",
            "148              6.2             3.4              5.4             2.3   \n",
            "149              5.9             3.0              5.1             1.8   \n",
            "\n",
            "              class  \n",
            "0       Iris-setosa  \n",
            "1       Iris-setosa  \n",
            "2       Iris-setosa  \n",
            "3       Iris-setosa  \n",
            "4       Iris-setosa  \n",
            "..              ...  \n",
            "145  Iris-virginica  \n",
            "146  Iris-virginica  \n",
            "147  Iris-virginica  \n",
            "148  Iris-virginica  \n",
            "149  Iris-virginica  \n",
            "\n",
            "[150 rows x 5 columns]\n"
          ]
        }
      ]
    },
    {
      "cell_type": "code",
      "source": [
        "# Verifica linhas repetidas\n",
        "iris_data.drop_duplicates()"
      ],
      "metadata": {
        "colab": {
          "base_uri": "https://localhost:8080/",
          "height": 424
        },
        "id": "JVLli2ci5jkX",
        "outputId": "63df5899-51d1-4f31-92ee-6b6d879c784e"
      },
      "execution_count": null,
      "outputs": [
        {
          "output_type": "execute_result",
          "data": {
            "text/plain": [
              "     sepalLengthInCM  sepalWidthInCM  petalLengthInCM  petalWidthInCM  \\\n",
              "0                5.1             3.5              1.4             0.2   \n",
              "1                4.9             3.0              1.4             0.2   \n",
              "2                4.7             3.2              1.3             0.2   \n",
              "3                4.6             3.1              1.5             0.2   \n",
              "4                5.0             3.6              1.4             0.2   \n",
              "..               ...             ...              ...             ...   \n",
              "145              6.7             3.0              5.2             2.3   \n",
              "146              6.3             2.5              5.0             1.9   \n",
              "147              6.5             3.0              5.2             2.0   \n",
              "148              6.2             3.4              5.4             2.3   \n",
              "149              5.9             3.0              5.1             1.8   \n",
              "\n",
              "              class  \n",
              "0       Iris-setosa  \n",
              "1       Iris-setosa  \n",
              "2       Iris-setosa  \n",
              "3       Iris-setosa  \n",
              "4       Iris-setosa  \n",
              "..              ...  \n",
              "145  Iris-virginica  \n",
              "146  Iris-virginica  \n",
              "147  Iris-virginica  \n",
              "148  Iris-virginica  \n",
              "149  Iris-virginica  \n",
              "\n",
              "[147 rows x 5 columns]"
            ],
            "text/html": [
              "\n",
              "  <div id=\"df-40439cf9-5d25-42b3-90a4-0103d52822a1\">\n",
              "    <div class=\"colab-df-container\">\n",
              "      <div>\n",
              "<style scoped>\n",
              "    .dataframe tbody tr th:only-of-type {\n",
              "        vertical-align: middle;\n",
              "    }\n",
              "\n",
              "    .dataframe tbody tr th {\n",
              "        vertical-align: top;\n",
              "    }\n",
              "\n",
              "    .dataframe thead th {\n",
              "        text-align: right;\n",
              "    }\n",
              "</style>\n",
              "<table border=\"1\" class=\"dataframe\">\n",
              "  <thead>\n",
              "    <tr style=\"text-align: right;\">\n",
              "      <th></th>\n",
              "      <th>sepalLengthInCM</th>\n",
              "      <th>sepalWidthInCM</th>\n",
              "      <th>petalLengthInCM</th>\n",
              "      <th>petalWidthInCM</th>\n",
              "      <th>class</th>\n",
              "    </tr>\n",
              "  </thead>\n",
              "  <tbody>\n",
              "    <tr>\n",
              "      <th>0</th>\n",
              "      <td>5.1</td>\n",
              "      <td>3.5</td>\n",
              "      <td>1.4</td>\n",
              "      <td>0.2</td>\n",
              "      <td>Iris-setosa</td>\n",
              "    </tr>\n",
              "    <tr>\n",
              "      <th>1</th>\n",
              "      <td>4.9</td>\n",
              "      <td>3.0</td>\n",
              "      <td>1.4</td>\n",
              "      <td>0.2</td>\n",
              "      <td>Iris-setosa</td>\n",
              "    </tr>\n",
              "    <tr>\n",
              "      <th>2</th>\n",
              "      <td>4.7</td>\n",
              "      <td>3.2</td>\n",
              "      <td>1.3</td>\n",
              "      <td>0.2</td>\n",
              "      <td>Iris-setosa</td>\n",
              "    </tr>\n",
              "    <tr>\n",
              "      <th>3</th>\n",
              "      <td>4.6</td>\n",
              "      <td>3.1</td>\n",
              "      <td>1.5</td>\n",
              "      <td>0.2</td>\n",
              "      <td>Iris-setosa</td>\n",
              "    </tr>\n",
              "    <tr>\n",
              "      <th>4</th>\n",
              "      <td>5.0</td>\n",
              "      <td>3.6</td>\n",
              "      <td>1.4</td>\n",
              "      <td>0.2</td>\n",
              "      <td>Iris-setosa</td>\n",
              "    </tr>\n",
              "    <tr>\n",
              "      <th>...</th>\n",
              "      <td>...</td>\n",
              "      <td>...</td>\n",
              "      <td>...</td>\n",
              "      <td>...</td>\n",
              "      <td>...</td>\n",
              "    </tr>\n",
              "    <tr>\n",
              "      <th>145</th>\n",
              "      <td>6.7</td>\n",
              "      <td>3.0</td>\n",
              "      <td>5.2</td>\n",
              "      <td>2.3</td>\n",
              "      <td>Iris-virginica</td>\n",
              "    </tr>\n",
              "    <tr>\n",
              "      <th>146</th>\n",
              "      <td>6.3</td>\n",
              "      <td>2.5</td>\n",
              "      <td>5.0</td>\n",
              "      <td>1.9</td>\n",
              "      <td>Iris-virginica</td>\n",
              "    </tr>\n",
              "    <tr>\n",
              "      <th>147</th>\n",
              "      <td>6.5</td>\n",
              "      <td>3.0</td>\n",
              "      <td>5.2</td>\n",
              "      <td>2.0</td>\n",
              "      <td>Iris-virginica</td>\n",
              "    </tr>\n",
              "    <tr>\n",
              "      <th>148</th>\n",
              "      <td>6.2</td>\n",
              "      <td>3.4</td>\n",
              "      <td>5.4</td>\n",
              "      <td>2.3</td>\n",
              "      <td>Iris-virginica</td>\n",
              "    </tr>\n",
              "    <tr>\n",
              "      <th>149</th>\n",
              "      <td>5.9</td>\n",
              "      <td>3.0</td>\n",
              "      <td>5.1</td>\n",
              "      <td>1.8</td>\n",
              "      <td>Iris-virginica</td>\n",
              "    </tr>\n",
              "  </tbody>\n",
              "</table>\n",
              "<p>147 rows × 5 columns</p>\n",
              "</div>\n",
              "      <button class=\"colab-df-convert\" onclick=\"convertToInteractive('df-40439cf9-5d25-42b3-90a4-0103d52822a1')\"\n",
              "              title=\"Convert this dataframe to an interactive table.\"\n",
              "              style=\"display:none;\">\n",
              "        \n",
              "  <svg xmlns=\"http://www.w3.org/2000/svg\" height=\"24px\"viewBox=\"0 0 24 24\"\n",
              "       width=\"24px\">\n",
              "    <path d=\"M0 0h24v24H0V0z\" fill=\"none\"/>\n",
              "    <path d=\"M18.56 5.44l.94 2.06.94-2.06 2.06-.94-2.06-.94-.94-2.06-.94 2.06-2.06.94zm-11 1L8.5 8.5l.94-2.06 2.06-.94-2.06-.94L8.5 2.5l-.94 2.06-2.06.94zm10 10l.94 2.06.94-2.06 2.06-.94-2.06-.94-.94-2.06-.94 2.06-2.06.94z\"/><path d=\"M17.41 7.96l-1.37-1.37c-.4-.4-.92-.59-1.43-.59-.52 0-1.04.2-1.43.59L10.3 9.45l-7.72 7.72c-.78.78-.78 2.05 0 2.83L4 21.41c.39.39.9.59 1.41.59.51 0 1.02-.2 1.41-.59l7.78-7.78 2.81-2.81c.8-.78.8-2.07 0-2.86zM5.41 20L4 18.59l7.72-7.72 1.47 1.35L5.41 20z\"/>\n",
              "  </svg>\n",
              "      </button>\n",
              "      \n",
              "  <style>\n",
              "    .colab-df-container {\n",
              "      display:flex;\n",
              "      flex-wrap:wrap;\n",
              "      gap: 12px;\n",
              "    }\n",
              "\n",
              "    .colab-df-convert {\n",
              "      background-color: #E8F0FE;\n",
              "      border: none;\n",
              "      border-radius: 50%;\n",
              "      cursor: pointer;\n",
              "      display: none;\n",
              "      fill: #1967D2;\n",
              "      height: 32px;\n",
              "      padding: 0 0 0 0;\n",
              "      width: 32px;\n",
              "    }\n",
              "\n",
              "    .colab-df-convert:hover {\n",
              "      background-color: #E2EBFA;\n",
              "      box-shadow: 0px 1px 2px rgba(60, 64, 67, 0.3), 0px 1px 3px 1px rgba(60, 64, 67, 0.15);\n",
              "      fill: #174EA6;\n",
              "    }\n",
              "\n",
              "    [theme=dark] .colab-df-convert {\n",
              "      background-color: #3B4455;\n",
              "      fill: #D2E3FC;\n",
              "    }\n",
              "\n",
              "    [theme=dark] .colab-df-convert:hover {\n",
              "      background-color: #434B5C;\n",
              "      box-shadow: 0px 1px 3px 1px rgba(0, 0, 0, 0.15);\n",
              "      filter: drop-shadow(0px 1px 2px rgba(0, 0, 0, 0.3));\n",
              "      fill: #FFFFFF;\n",
              "    }\n",
              "  </style>\n",
              "\n",
              "      <script>\n",
              "        const buttonEl =\n",
              "          document.querySelector('#df-40439cf9-5d25-42b3-90a4-0103d52822a1 button.colab-df-convert');\n",
              "        buttonEl.style.display =\n",
              "          google.colab.kernel.accessAllowed ? 'block' : 'none';\n",
              "\n",
              "        async function convertToInteractive(key) {\n",
              "          const element = document.querySelector('#df-40439cf9-5d25-42b3-90a4-0103d52822a1');\n",
              "          const dataTable =\n",
              "            await google.colab.kernel.invokeFunction('convertToInteractive',\n",
              "                                                     [key], {});\n",
              "          if (!dataTable) return;\n",
              "\n",
              "          const docLinkHtml = 'Like what you see? Visit the ' +\n",
              "            '<a target=\"_blank\" href=https://colab.research.google.com/notebooks/data_table.ipynb>data table notebook</a>'\n",
              "            + ' to learn more about interactive tables.';\n",
              "          element.innerHTML = '';\n",
              "          dataTable['output_type'] = 'display_data';\n",
              "          await google.colab.output.renderOutput(dataTable, element);\n",
              "          const docLink = document.createElement('div');\n",
              "          docLink.innerHTML = docLinkHtml;\n",
              "          element.appendChild(docLink);\n",
              "        }\n",
              "      </script>\n",
              "    </div>\n",
              "  </div>\n",
              "  "
            ]
          },
          "metadata": {},
          "execution_count": 14
        }
      ]
    },
    {
      "cell_type": "code",
      "source": [
        "# Verifica se há valores NaN \n",
        "iris_data.isnull().sum()"
      ],
      "metadata": {
        "colab": {
          "base_uri": "https://localhost:8080/"
        },
        "id": "jiH_yPau8j-a",
        "outputId": "150f4a6c-bdb9-4cc4-9d38-c545d8a2c72e"
      },
      "execution_count": null,
      "outputs": [
        {
          "output_type": "execute_result",
          "data": {
            "text/plain": [
              "sepalLengthInCM    0\n",
              "sepalWidthInCM     0\n",
              "petalLengthInCM    0\n",
              "petalWidthInCM     0\n",
              "class              0\n",
              "dtype: int64"
            ]
          },
          "metadata": {},
          "execution_count": 15
        }
      ]
    },
    {
      "cell_type": "markdown",
      "source": [
        "## 2) Questão "
      ],
      "metadata": {
        "id": "w5GrFiBK5eLI"
      }
    },
    {
      "cell_type": "markdown",
      "source": [
        "No caso do dataset Iris, reproduza os modelos apresentados nos slides 27 a 32.\n",
        "Calcule as equacoes, os coeficientes de determinacao e faca o F-test, considerando\n",
        "o nıvel de confianca α = 0.5."
      ],
      "metadata": {
        "id": "PsaAfcbA_GnY"
      }
    },
    {
      "cell_type": "code",
      "source": [
        "# Função que recebe o nome da linha e da coluna do grafico para plotar\n",
        "# Printa a equação da rede da reta,  o grafico e faz o F-Teste\n",
        "def iris(x,y):\n",
        "  linha = x\n",
        "  coluna = y\n",
        "  i = [linha]\n",
        "  o = [coluna]\n",
        "  X2 = iris_data[i]\n",
        "  Y2 = iris_data[o]\n",
        "  # Dividimos o dataset de acordo com suas classes\n",
        "  data_with_index = iris_data.set_index(\"class\")\n",
        "  A2 = data_with_index.drop([\"Iris-setosa\",\"Iris-virginica\"])\n",
        "  X2_versicolor = A2[i]\n",
        "  Y2_versicolor = A2[o]\n",
        "  B2 = data_with_index.drop([\"Iris-versicolor\",\"Iris-virginica\"])\n",
        "  X2_setosa = B2[i]\n",
        "  Y2_setosa = B2[o]\n",
        "  C2 = data_with_index.drop([\"Iris-setosa\",\"Iris-versicolor\"])\n",
        "  X2_virginica = C2[i]\n",
        "  Y2_virginica = C2[o]\n",
        "  #Criando um modelo de regressão linear\n",
        "  linreg = LinearRegression()\n",
        "  linreg.fit(X2,Y2)\n",
        "  theta0 = linreg.intercept_\n",
        "  theta1 = linreg.coef_\n",
        "\n",
        "  print(\"Theta 0 encontrado: %f\" % theta0)\n",
        "  print(\"Theta 1 encontrado: %f\" % theta1)\n",
        "  print('Equação da Reta: Y =', theta0,' + ',theta1,'* X\\n' )\n",
        "  Y2_previsto = theta0+theta1*X2\n",
        "  plt.scatter(X2_setosa, Y2_setosa,marker='o',color='red') \n",
        "  plt.scatter(X2_versicolor, Y2_versicolor,marker='o',color='blue')   \n",
        "  plt.scatter(X2_virginica, Y2_virginica,marker='o',color='green')  \n",
        "  plt.legend([\"setosa\",\"versicolor\",\"virginica\"])\n",
        "  plt.plot(X2, Y2_previsto,  color='#FF1493')\n",
        "  plt.ylabel(coluna)\n",
        "  plt.xlabel(linha)\n",
        "  plt.show() \n",
        "  print()\n",
        "  F_Test(Y2,Y2_previsto)\n",
        "  return "
      ],
      "metadata": {
        "id": "m-p9FC2s1C9e"
      },
      "execution_count": null,
      "outputs": []
    },
    {
      "cell_type": "code",
      "source": [
        "# Função para o F - Teste\n",
        "import scipy.stats\n",
        "def F_Test(Y2,Y2_previsto):\n",
        "  Y2_novo = np.array(Y2)\n",
        "  Y2_media = np.mean(Y2_novo)\n",
        "  SSR=np.sum((Y2_novo-Y2_media)**2)\n",
        "  #print(\"SSR:\",SSR)\n",
        "  Y2_pred_nova=np.array(Y2_previsto)\n",
        "  #print(\"Previsto:\",Y2_pred_nova)\n",
        "  SSE=np.sum((Y2_novo-Y2_pred_nova)**2)\n",
        "  #print(\"SSE:\",SSE)\n",
        "  f=(SSR/2)/(SSE/148)\n",
        "  score=1-(SSE/SSR)\n",
        "  p_value = scipy.stats.f.ppf(q=1-0.5, dfn=2, dfd=145)\n",
        "  print(\"F = \",f)\n",
        "  print(\"score = \",score)\n",
        "  print(\"valor crítico = \",p_value)\n",
        "  if p_value < 0.05:\n",
        "    print(\"Existe evidência estatÍstica para rejeitar a hipótese nula\")\n",
        "  return "
      ],
      "metadata": {
        "id": "zGDck9IniHV_"
      },
      "execution_count": null,
      "outputs": []
    },
    {
      "cell_type": "code",
      "source": [
        "# Slide 27\n",
        "iris(\"petalLengthInCM\",\"petalWidthInCM\")"
      ],
      "metadata": {
        "colab": {
          "base_uri": "https://localhost:8080/",
          "height": 418
        },
        "id": "66kuRHqax41d",
        "outputId": "3ccdcfbb-df40-44bd-b146-ec005780c0ca"
      },
      "execution_count": null,
      "outputs": [
        {
          "output_type": "stream",
          "name": "stdout",
          "text": [
            "Theta 0 encontrado: -0.366514\n",
            "Theta 1 encontrado: 0.416419\n",
            "Equação da Reta: Y = [-0.36651405]  +  [[0.41641913]] * X\n",
            "\n"
          ]
        },
        {
          "output_type": "display_data",
          "data": {
            "text/plain": [
              "<Figure size 432x288 with 1 Axes>"
            ],
            "image/png": "[encoded data removed]"
          },
          "metadata": {
            "needs_background": "light"
          }
        },
        {
          "output_type": "stream",
          "name": "stdout",
          "text": [
            "\n",
            "F =  1012.3289064423959\n",
            "score =  0.9269012279220037\n",
            "valor crítico =  0.6964712345492198\n"
          ]
        }
      ]
    },
    {
      "cell_type": "code",
      "source": [
        "# Slide 28\n",
        "iris(\"sepalLengthInCM\",\"sepalWidthInCM\")"
      ],
      "metadata": {
        "colab": {
          "base_uri": "https://localhost:8080/",
          "height": 421
        },
        "id": "iFUbhY3Jz9Na",
        "outputId": "69f1cb5f-7c20-4ed3-d3be-44a4e73a8027"
      },
      "execution_count": null,
      "outputs": [
        {
          "output_type": "stream",
          "name": "stdout",
          "text": [
            "Theta 0 encontrado: 3.388637\n",
            "Theta 1 encontrado: -0.057268\n",
            "Equação da Reta: Y = [3.38863738]  +  [[-0.05726823]] * X\n",
            "\n"
          ]
        },
        {
          "output_type": "display_data",
          "data": {
            "text/plain": [
              "<Figure size 432x288 with 1 Axes>"
            ],
            "image/png": "[encoded data removed]"
          },
          "metadata": {
            "needs_background": "light"
          }
        },
        {
          "output_type": "stream",
          "name": "stdout",
          "text": [
            "\n",
            "F =  74.8958769812881\n",
            "score =  0.0119616328347677\n",
            "valor crítico =  0.6964712345492198\n"
          ]
        }
      ]
    },
    {
      "cell_type": "code",
      "source": [
        "# Slide 29\n",
        "iris(\"sepalLengthInCM\",\"petalLengthInCM\")"
      ],
      "metadata": {
        "colab": {
          "base_uri": "https://localhost:8080/",
          "height": 418
        },
        "id": "x7zqyVEV0Sy8",
        "outputId": "6ac82af9-c552-4f91-9234-63fd85ae8726"
      },
      "execution_count": null,
      "outputs": [
        {
          "output_type": "stream",
          "name": "stdout",
          "text": [
            "Theta 0 encontrado: -7.095381\n",
            "Theta 1 encontrado: 1.857510\n",
            "Equação da Reta: Y = [-7.09538148]  +  [[1.85750967]] * X\n",
            "\n"
          ]
        },
        {
          "output_type": "display_data",
          "data": {
            "text/plain": [
              "<Figure size 432x288 with 1 Axes>"
            ],
            "image/png": "[encoded data removed]"
          },
          "metadata": {
            "needs_background": "light"
          }
        },
        {
          "output_type": "stream",
          "name": "stdout",
          "text": [
            "\n",
            "F =  308.2759307858017\n",
            "score =  0.7599553107783261\n",
            "valor crítico =  0.6964712345492198\n"
          ]
        }
      ]
    },
    {
      "cell_type": "code",
      "source": [
        "# Slide 30\n",
        "iris(\"sepalLengthInCM\",\"petalWidthInCM\")"
      ],
      "metadata": {
        "colab": {
          "base_uri": "https://localhost:8080/",
          "height": 418
        },
        "id": "KY61wjcw02cH",
        "outputId": "7da25c85-70a1-443a-bbfd-2582a8db5ac6"
      },
      "execution_count": null,
      "outputs": [
        {
          "output_type": "stream",
          "name": "stdout",
          "text": [
            "Theta 0 encontrado: -3.206277\n",
            "Theta 1 encontrado: 0.753841\n",
            "Equação da Reta: Y = [-3.2062769]  +  [[0.75384088]] * X\n",
            "\n"
          ]
        },
        {
          "output_type": "display_data",
          "data": {
            "text/plain": [
              "<Figure size 432x288 with 1 Axes>"
            ],
            "image/png": "[encoded data removed]"
          },
          "metadata": {
            "needs_background": "light"
          }
        },
        {
          "output_type": "stream",
          "name": "stdout",
          "text": [
            "\n",
            "F =  223.5974785517568\n",
            "score =  0.6690481463418159\n",
            "valor crítico =  0.6964712345492198\n"
          ]
        }
      ]
    },
    {
      "cell_type": "code",
      "source": [
        "# Slide 31\n",
        "iris(\"sepalWidthInCM\",\"petalLengthInCM\")"
      ],
      "metadata": {
        "colab": {
          "base_uri": "https://localhost:8080/",
          "height": 418
        },
        "id": "JA9C6ZUQ1JsO",
        "outputId": "bceb5455-9c4a-45e7-8689-fe9fc3c628c9"
      },
      "execution_count": null,
      "outputs": [
        {
          "output_type": "stream",
          "name": "stdout",
          "text": [
            "Theta 0 encontrado: 8.984676\n",
            "Theta 1 encontrado: -1.711201\n",
            "Equação da Reta: Y = [8.98467571]  +  [[-1.71120139]] * X\n",
            "\n"
          ]
        },
        {
          "output_type": "display_data",
          "data": {
            "text/plain": [
              "<Figure size 432x288 with 1 Axes>"
            ],
            "image/png": "[encoded data removed]"
          },
          "metadata": {
            "needs_background": "light"
          }
        },
        {
          "output_type": "stream",
          "name": "stdout",
          "text": [
            "\n",
            "F =  89.89678981137622\n",
            "score =  0.17683378733246502\n",
            "valor crítico =  0.6964712345492198\n"
          ]
        }
      ]
    },
    {
      "cell_type": "code",
      "source": [
        "# Slide 32\n",
        "iris(\"sepalWidthInCM\",\"petalWidthInCM\")"
      ],
      "metadata": {
        "colab": {
          "base_uri": "https://localhost:8080/",
          "height": 418
        },
        "id": "gQoEQW_l2yYV",
        "outputId": "c5261ff7-3af7-43f5-92d9-7e470e9e4a82"
      },
      "execution_count": null,
      "outputs": [
        {
          "output_type": "stream",
          "name": "stdout",
          "text": [
            "Theta 0 encontrado: 3.115193\n",
            "Theta 1 encontrado: -0.627546\n",
            "Equação da Reta: Y = [3.11519269]  +  [[-0.62754618]] * X\n",
            "\n"
          ]
        },
        {
          "output_type": "display_data",
          "data": {
            "text/plain": [
              "<Figure size 432x288 with 1 Axes>"
            ],
            "image/png": "[encoded data removed]"
          },
          "metadata": {
            "needs_background": "light"
          }
        },
        {
          "output_type": "stream",
          "name": "stdout",
          "text": [
            "\n",
            "F =  84.77718889719586\n",
            "score =  0.12712368783853756\n",
            "valor crítico =  0.6964712345492198\n"
          ]
        }
      ]
    },
    {
      "cell_type": "markdown",
      "source": [
        "Os gráficos e os scores são iguais aos dos slides"
      ],
      "metadata": {
        "id": "Lhrlq2y7c4i-"
      }
    },
    {
      "cell_type": "markdown",
      "source": [
        "## 3) Questão "
      ],
      "metadata": {
        "id": "5BVv7k4t__76"
      }
    },
    {
      "cell_type": "markdown",
      "source": [
        "Selecione aleatoriamente uma amostra contendo 10 exemplos do dataset.\n",
        "Faca um programa que gere um modelo de regressao Ridge a partir destes pontos,\n",
        "considerando o par de atributos sepalLengthInCM x petalLengthInCM. Seu\n",
        "programa deve gerar um grafico com todos os pontos do dataset (com cores\n",
        "difirentes para as instancias usadas na regressao Ridge e as demais), a reta obtida\n",
        "pela regressao linear e a reta obtida pela regressao Ridge. Use\n",
        "λ ∈ {1, 5, 10, 50, 100}."
      ],
      "metadata": {
        "id": "PJblvzD1QbdY"
      }
    },
    {
      "cell_type": "code",
      "source": [
        "# Pega uma amostra contendo 10 exemplos aleatorios do dataset\n",
        "random = iris_data.sample(10)\n",
        "random "
      ],
      "metadata": {
        "colab": {
          "base_uri": "https://localhost:8080/",
          "height": 363
        },
        "id": "j6cQNuaeAv5u",
        "outputId": "5c07993c-1d8b-4407-e0bc-e7981a25270c"
      },
      "execution_count": null,
      "outputs": [
        {
          "output_type": "execute_result",
          "data": {
            "text/plain": [
              "     sepalLengthInCM  sepalWidthInCM  petalLengthInCM  petalWidthInCM  \\\n",
              "146              6.3             2.5              5.0             1.9   \n",
              "138              6.0             3.0              4.8             1.8   \n",
              "127              6.1             3.0              4.9             1.8   \n",
              "136              6.3             3.4              5.6             2.4   \n",
              "12               4.8             3.0              1.4             0.1   \n",
              "64               5.6             2.9              3.6             1.3   \n",
              "90               5.5             2.6              4.4             1.2   \n",
              "27               5.2             3.5              1.5             0.2   \n",
              "22               4.6             3.6              1.0             0.2   \n",
              "77               6.7             3.0              5.0             1.7   \n",
              "\n",
              "               class  \n",
              "146   Iris-virginica  \n",
              "138   Iris-virginica  \n",
              "127   Iris-virginica  \n",
              "136   Iris-virginica  \n",
              "12       Iris-setosa  \n",
              "64   Iris-versicolor  \n",
              "90   Iris-versicolor  \n",
              "27       Iris-setosa  \n",
              "22       Iris-setosa  \n",
              "77   Iris-versicolor  "
            ],
            "text/html": [
              "\n",
              "  <div id=\"df-099c09ba-2927-4004-9d95-3c0d31ed05ba\">\n",
              "    <div class=\"colab-df-container\">\n",
              "      <div>\n",
              "<style scoped>\n",
              "    .dataframe tbody tr th:only-of-type {\n",
              "        vertical-align: middle;\n",
              "    }\n",
              "\n",
              "    .dataframe tbody tr th {\n",
              "        vertical-align: top;\n",
              "    }\n",
              "\n",
              "    .dataframe thead th {\n",
              "        text-align: right;\n",
              "    }\n",
              "</style>\n",
              "<table border=\"1\" class=\"dataframe\">\n",
              "  <thead>\n",
              "    <tr style=\"text-align: right;\">\n",
              "      <th></th>\n",
              "      <th>sepalLengthInCM</th>\n",
              "      <th>sepalWidthInCM</th>\n",
              "      <th>petalLengthInCM</th>\n",
              "      <th>petalWidthInCM</th>\n",
              "      <th>class</th>\n",
              "    </tr>\n",
              "  </thead>\n",
              "  <tbody>\n",
              "    <tr>\n",
              "      <th>146</th>\n",
              "      <td>6.3</td>\n",
              "      <td>2.5</td>\n",
              "      <td>5.0</td>\n",
              "      <td>1.9</td>\n",
              "      <td>Iris-virginica</td>\n",
              "    </tr>\n",
              "    <tr>\n",
              "      <th>138</th>\n",
              "      <td>6.0</td>\n",
              "      <td>3.0</td>\n",
              "      <td>4.8</td>\n",
              "      <td>1.8</td>\n",
              "      <td>Iris-virginica</td>\n",
              "    </tr>\n",
              "    <tr>\n",
              "      <th>127</th>\n",
              "      <td>6.1</td>\n",
              "      <td>3.0</td>\n",
              "      <td>4.9</td>\n",
              "      <td>1.8</td>\n",
              "      <td>Iris-virginica</td>\n",
              "    </tr>\n",
              "    <tr>\n",
              "      <th>136</th>\n",
              "      <td>6.3</td>\n",
              "      <td>3.4</td>\n",
              "      <td>5.6</td>\n",
              "      <td>2.4</td>\n",
              "      <td>Iris-virginica</td>\n",
              "    </tr>\n",
              "    <tr>\n",
              "      <th>12</th>\n",
              "      <td>4.8</td>\n",
              "      <td>3.0</td>\n",
              "      <td>1.4</td>\n",
              "      <td>0.1</td>\n",
              "      <td>Iris-setosa</td>\n",
              "    </tr>\n",
              "    <tr>\n",
              "      <th>64</th>\n",
              "      <td>5.6</td>\n",
              "      <td>2.9</td>\n",
              "      <td>3.6</td>\n",
              "      <td>1.3</td>\n",
              "      <td>Iris-versicolor</td>\n",
              "    </tr>\n",
              "    <tr>\n",
              "      <th>90</th>\n",
              "      <td>5.5</td>\n",
              "      <td>2.6</td>\n",
              "      <td>4.4</td>\n",
              "      <td>1.2</td>\n",
              "      <td>Iris-versicolor</td>\n",
              "    </tr>\n",
              "    <tr>\n",
              "      <th>27</th>\n",
              "      <td>5.2</td>\n",
              "      <td>3.5</td>\n",
              "      <td>1.5</td>\n",
              "      <td>0.2</td>\n",
              "      <td>Iris-setosa</td>\n",
              "    </tr>\n",
              "    <tr>\n",
              "      <th>22</th>\n",
              "      <td>4.6</td>\n",
              "      <td>3.6</td>\n",
              "      <td>1.0</td>\n",
              "      <td>0.2</td>\n",
              "      <td>Iris-setosa</td>\n",
              "    </tr>\n",
              "    <tr>\n",
              "      <th>77</th>\n",
              "      <td>6.7</td>\n",
              "      <td>3.0</td>\n",
              "      <td>5.0</td>\n",
              "      <td>1.7</td>\n",
              "      <td>Iris-versicolor</td>\n",
              "    </tr>\n",
              "  </tbody>\n",
              "</table>\n",
              "</div>\n",
              "      <button class=\"colab-df-convert\" onclick=\"convertToInteractive('df-099c09ba-2927-4004-9d95-3c0d31ed05ba')\"\n",
              "              title=\"Convert this dataframe to an interactive table.\"\n",
              "              style=\"display:none;\">\n",
              "        \n",
              "  <svg xmlns=\"http://www.w3.org/2000/svg\" height=\"24px\"viewBox=\"0 0 24 24\"\n",
              "       width=\"24px\">\n",
              "    <path d=\"M0 0h24v24H0V0z\" fill=\"none\"/>\n",
              "    <path d=\"M18.56 5.44l.94 2.06.94-2.06 2.06-.94-2.06-.94-.94-2.06-.94 2.06-2.06.94zm-11 1L8.5 8.5l.94-2.06 2.06-.94-2.06-.94L8.5 2.5l-.94 2.06-2.06.94zm10 10l.94 2.06.94-2.06 2.06-.94-2.06-.94-.94-2.06-.94 2.06-2.06.94z\"/><path d=\"M17.41 7.96l-1.37-1.37c-.4-.4-.92-.59-1.43-.59-.52 0-1.04.2-1.43.59L10.3 9.45l-7.72 7.72c-.78.78-.78 2.05 0 2.83L4 21.41c.39.39.9.59 1.41.59.51 0 1.02-.2 1.41-.59l7.78-7.78 2.81-2.81c.8-.78.8-2.07 0-2.86zM5.41 20L4 18.59l7.72-7.72 1.47 1.35L5.41 20z\"/>\n",
              "  </svg>\n",
              "      </button>\n",
              "      \n",
              "  <style>\n",
              "    .colab-df-container {\n",
              "      display:flex;\n",
              "      flex-wrap:wrap;\n",
              "      gap: 12px;\n",
              "    }\n",
              "\n",
              "    .colab-df-convert {\n",
              "      background-color: #E8F0FE;\n",
              "      border: none;\n",
              "      border-radius: 50%;\n",
              "      cursor: pointer;\n",
              "      display: none;\n",
              "      fill: #1967D2;\n",
              "      height: 32px;\n",
              "      padding: 0 0 0 0;\n",
              "      width: 32px;\n",
              "    }\n",
              "\n",
              "    .colab-df-convert:hover {\n",
              "      background-color: #E2EBFA;\n",
              "      box-shadow: 0px 1px 2px rgba(60, 64, 67, 0.3), 0px 1px 3px 1px rgba(60, 64, 67, 0.15);\n",
              "      fill: #174EA6;\n",
              "    }\n",
              "\n",
              "    [theme=dark] .colab-df-convert {\n",
              "      background-color: #3B4455;\n",
              "      fill: #D2E3FC;\n",
              "    }\n",
              "\n",
              "    [theme=dark] .colab-df-convert:hover {\n",
              "      background-color: #434B5C;\n",
              "      box-shadow: 0px 1px 3px 1px rgba(0, 0, 0, 0.15);\n",
              "      filter: drop-shadow(0px 1px 2px rgba(0, 0, 0, 0.3));\n",
              "      fill: #FFFFFF;\n",
              "    }\n",
              "  </style>\n",
              "\n",
              "      <script>\n",
              "        const buttonEl =\n",
              "          document.querySelector('#df-099c09ba-2927-4004-9d95-3c0d31ed05ba button.colab-df-convert');\n",
              "        buttonEl.style.display =\n",
              "          google.colab.kernel.accessAllowed ? 'block' : 'none';\n",
              "\n",
              "        async function convertToInteractive(key) {\n",
              "          const element = document.querySelector('#df-099c09ba-2927-4004-9d95-3c0d31ed05ba');\n",
              "          const dataTable =\n",
              "            await google.colab.kernel.invokeFunction('convertToInteractive',\n",
              "                                                     [key], {});\n",
              "          if (!dataTable) return;\n",
              "\n",
              "          const docLinkHtml = 'Like what you see? Visit the ' +\n",
              "            '<a target=\"_blank\" href=https://colab.research.google.com/notebooks/data_table.ipynb>data table notebook</a>'\n",
              "            + ' to learn more about interactive tables.';\n",
              "          element.innerHTML = '';\n",
              "          dataTable['output_type'] = 'display_data';\n",
              "          await google.colab.output.renderOutput(dataTable, element);\n",
              "          const docLink = document.createElement('div');\n",
              "          docLink.innerHTML = docLinkHtml;\n",
              "          element.appendChild(docLink);\n",
              "        }\n",
              "      </script>\n",
              "    </div>\n",
              "  </div>\n",
              "  "
            ]
          },
          "metadata": {},
          "execution_count": 24
        }
      ]
    },
    {
      "cell_type": "code",
      "source": [
        "  input_cols = ['sepalLengthInCM']\n",
        "  output_variable = ['petalLengthInCM']\n",
        "  # Separar x e y do conjunto com 10 pontos para a Regressão de Ridge\n",
        "  X3 = random[input_cols] \n",
        "  Y3 = random[output_variable]\n",
        "  # Separar x e y do dataset com todos os pontos\n",
        "  Y4 = iris_data[output_variable]\n",
        "  X4 = iris_data[input_cols]\n",
        "  # Separar x e y do conjunto com 10 pontos para a Regressão de Linear\n",
        "  X5 = random[input_cols]\n",
        "  Y5 = random[output_variable]\n",
        "  # Modelo linear\n",
        "  linreg = LinearRegression()\n",
        "  linreg.fit(X5,Y5)\n",
        "  theta0 = linreg.intercept_\n",
        "  theta1 = linreg.coef_\n",
        "  Y5_previsto = theta0+theta1*X4\n",
        "  scores=[] # Armazenar os scores das Regressões de Ridge"
      ],
      "metadata": {
        "id": "5wMHNErWNMpg"
      },
      "execution_count": null,
      "outputs": []
    },
    {
      "cell_type": "code",
      "source": [
        "def grafico(i):\n",
        "  ridge = Ridge (alpha=i)\n",
        "  ridge.fit(X3,Y3)\n",
        "  Y4_previsto = ridge.predict(X4)\n",
        "  teta0 = ridge.intercept_\n",
        "  teta1 = ridge.coef_\n",
        "  score=ridge.score(X3,Y3)\n",
        "  scores.append(score)\n",
        "  print('Equação da Ridge: Y =', teta0,' + ',teta1,'* X' )\n",
        "  print('Equação da Regressão Linear: Y =', theta0,' + ',theta1,'* X' )\n",
        "  print()\n",
        "  plt.plot(X4, Y4_previsto,  color='#FF1493') \n",
        "  plt.plot(X4, Y5_previsto,  color='blue') \n",
        "  plt.legend([\"Ridge: 10 pontos\",\"Linear: 10 pontos\"])\n",
        "  plt.scatter(X4, Y4,marker='o',color='gray')\n",
        "  plt.scatter(X3, Y3,marker='o',color='red') \n"
      ],
      "metadata": {
        "id": "oWMBels5Joek"
      },
      "execution_count": null,
      "outputs": []
    },
    {
      "cell_type": "code",
      "source": [
        "grafico(1.0)"
      ],
      "metadata": {
        "colab": {
          "base_uri": "https://localhost:8080/",
          "height": 317
        },
        "id": "yGTeZjv-Kyfe",
        "outputId": "afbef714-15a9-4bdb-ddda-a0ac278720dc"
      },
      "execution_count": null,
      "outputs": [
        {
          "output_type": "stream",
          "name": "stdout",
          "text": [
            "Equação da Ridge: Y = [-7.11701645]  +  [[1.8979013]] * X\n",
            "Equação da Regressão Linear: Y = [-9.64371648]  +  [[2.34040569]] * X\n",
            "\n"
          ]
        },
        {
          "output_type": "display_data",
          "data": {
            "text/plain": [
              "<Figure size 432x288 with 1 Axes>"
            ],
            "image/png": "[encoded data removed]"
          },
          "metadata": {
            "needs_background": "light"
          }
        }
      ]
    },
    {
      "cell_type": "code",
      "source": [
        "grafico(5.0)"
      ],
      "metadata": {
        "colab": {
          "base_uri": "https://localhost:8080/",
          "height": 317
        },
        "id": "84wN_uxHOhYA",
        "outputId": "bb844772-24d0-4d0d-c9e1-62ec84e13e1d"
      },
      "execution_count": null,
      "outputs": [
        {
          "output_type": "stream",
          "name": "stdout",
          "text": [
            "Equação da Ridge: Y = [-2.45041447]  +  [[1.08063301]] * X\n",
            "Equação da Regressão Linear: Y = [-9.64371648]  +  [[2.34040569]] * X\n",
            "\n"
          ]
        },
        {
          "output_type": "display_data",
          "data": {
            "text/plain": [
              "<Figure size 432x288 with 1 Axes>"
            ],
            "image/png": "[encoded data removed]"
          },
          "metadata": {
            "needs_background": "light"
          }
        }
      ]
    },
    {
      "cell_type": "code",
      "source": [
        "grafico(10.0)"
      ],
      "metadata": {
        "colab": {
          "base_uri": "https://localhost:8080/",
          "height": 317
        },
        "id": "fWBc90ndOjPA",
        "outputId": "e6be3254-f5ab-4151-85c3-76c90c79e6a7"
      },
      "execution_count": null,
      "outputs": [
        {
          "output_type": "stream",
          "name": "stdout",
          "text": [
            "Equação da Ridge: Y = [-0.29126601]  +  [[0.70249843]] * X\n",
            "Equação da Regressão Linear: Y = [-9.64371648]  +  [[2.34040569]] * X\n",
            "\n"
          ]
        },
        {
          "output_type": "display_data",
          "data": {
            "text/plain": [
              "<Figure size 432x288 with 1 Axes>"
            ],
            "image/png": "[encoded data removed]"
          },
          "metadata": {
            "needs_background": "light"
          }
        }
      ]
    },
    {
      "cell_type": "code",
      "source": [
        "grafico(50.0)"
      ],
      "metadata": {
        "colab": {
          "base_uri": "https://localhost:8080/",
          "height": 317
        },
        "id": "PSV1U6DmO8ry",
        "outputId": "92018449-8dcf-465e-c668-44f97219ba4d"
      },
      "execution_count": null,
      "outputs": [
        {
          "output_type": "stream",
          "name": "stdout",
          "text": [
            "Equação da Ridge: Y = [2.6642248]  +  [[0.18489934]] * X\n",
            "Equação da Regressão Linear: Y = [-9.64371648]  +  [[2.34040569]] * X\n",
            "\n"
          ]
        },
        {
          "output_type": "display_data",
          "data": {
            "text/plain": [
              "<Figure size 432x288 with 1 Axes>"
            ],
            "image/png": "[encoded data removed]"
          },
          "metadata": {
            "needs_background": "light"
          }
        }
      ]
    },
    {
      "cell_type": "code",
      "source": [
        "grafico(100.0)"
      ],
      "metadata": {
        "colab": {
          "base_uri": "https://localhost:8080/",
          "height": 317
        },
        "id": "X3kf0I_uO-lZ",
        "outputId": "71c8df23-f8b8-49fc-ce44-28700ea2e7f8"
      },
      "execution_count": null,
      "outputs": [
        {
          "output_type": "stream",
          "name": "stdout",
          "text": [
            "Equação da Ridge: Y = [3.17040244]  +  [[0.09625176]] * X\n",
            "Equação da Regressão Linear: Y = [-9.64371648]  +  [[2.34040569]] * X\n",
            "\n"
          ]
        },
        {
          "output_type": "display_data",
          "data": {
            "text/plain": [
              "<Figure size 432x288 with 1 Axes>"
            ],
            "image/png": "[encoded data removed]"
          },
          "metadata": {
            "needs_background": "light"
          }
        }
      ]
    },
    {
      "cell_type": "markdown",
      "source": [
        "À medida que λ aumenta para infinito, o impacto da penalidade de contração aumenta, e os coeficientes da regressão se aproximam de zero."
      ],
      "metadata": {
        "id": "jkBwozLi07hJ"
      }
    },
    {
      "cell_type": "code",
      "source": [
        "plt.scatter([1,5,10,50,100],scores)\n",
        "plt.xlabel('Lambda')\n",
        "plt.ylabel('Score')"
      ],
      "metadata": {
        "colab": {
          "base_uri": "https://localhost:8080/",
          "height": 296
        },
        "id": "xCQTk-NuPDpL",
        "outputId": "a84d6689-d07a-45a3-e58b-87ec07e1b510"
      },
      "execution_count": null,
      "outputs": [
        {
          "output_type": "execute_result",
          "data": {
            "text/plain": [
              "Text(0, 0.5, 'Score')"
            ]
          },
          "metadata": {},
          "execution_count": 32
        },
        {
          "output_type": "display_data",
          "data": {
            "text/plain": [
              "<Figure size 432x288 with 1 Axes>"
            ],
            "image/png": "[encoded data removed]"
          },
          "metadata": {
            "needs_background": "light"
          }
        }
      ]
    }
  ]
}